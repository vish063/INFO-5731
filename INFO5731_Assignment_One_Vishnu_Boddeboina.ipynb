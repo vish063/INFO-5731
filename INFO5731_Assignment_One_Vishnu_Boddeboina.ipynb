{
  "cells": [
    {
      "cell_type": "markdown",
      "metadata": {
        "id": "view-in-github"
      },
      "source": [
        "<a href=\"https://colab.research.google.com/github/unt-iialab/INFO5731_Spring2020/blob/master/Assignments/INFO5731_Assignment_One.ipynb\" target=\"_parent\"><img src=\"https://colab.research.google.com/assets/colab-badge.svg\" alt=\"Open In Colab\"/></a>"
      ]
    },
    {
      "cell_type": "markdown",
      "metadata": {
        "id": "Ryk8D1Q4Wsrp"
      },
      "source": [
        "# **INFO5731 Assignment One**"
      ]
    },
    {
      "cell_type": "markdown",
      "metadata": {
        "id": "90_NR8c5XGWc"
      },
      "source": [
        "# Question 1\n",
        "\n",
        "(20 points). Write a Python program to generate 12 random numbers between 1 and 100. Sort the list of numbers in ascending order and print it out. Sort the list of numbers in descending order and print it out. Calculate the average for the group and print it out."
      ]
    },
    {
      "cell_type": "code",
      "execution_count": 80,
      "metadata": {
        "colab": {
          "base_uri": "https://localhost:8080/"
        },
        "id": "5QX6bJjGWXY9",
        "outputId": "18d9b852-66ad-4e45-a62d-582e297b822f"
      },
      "outputs": [
        {
          "output_type": "stream",
          "name": "stdout",
          "text": [
            "Random numbers: [63 26  4 60 85 97 78 39 30 29  7 10]\n",
            "Decending order: [97, 85, 78, 63, 60, 39, 30, 29, 26, 10, 7, 4]\n",
            "Ascending order: [4, 7, 10, 26, 29, 30, 39, 60, 63, 78, 85, 97]\n",
            "Average: 44.0\n"
          ]
        }
      ],
      "source": [
        "# Import libraries\n",
        "from numpy.random import seed\n",
        "from numpy.random import randint\n",
        "\n",
        "# generate some integers\n",
        "random_nums = randint(1, 101, 12)\n",
        "print(f'Random numbers: {random_nums}')\n",
        "print(f'Decending order: {sorted(random_nums, reverse=True)}')\n",
        "print(f'Ascending order: {sorted(random_nums, reverse=False)}')\n",
        "print(f'Average: {sum(random_nums)/len(random_nums)}')\n"
      ]
    },
    {
      "cell_type": "markdown",
      "metadata": {
        "id": "1F_PZdH9Sh49"
      },
      "source": [
        "# Question 2\n",
        "(25 points). Write a program that will do the following string formatting tasks:\n",
        "\n",
        "(1) Ask the user to enter two sentences.\n",
        "\n",
        "(2) Make each sentence into a list. Each element in the list should correspond to a word in the sentence. For example, if the sentence is \"Alas! Am I alive? This is my first python program\", the program should print out ['Alas, '!', 'Am', 'I', 'alive, '?', 'This', 'is', 'my', 'first', 'python', 'program'].\n",
        "\n",
        "(3) Compare the two sentences. Print out a list of words that occur in both sentences.\n",
        "\n",
        "(4) Remove any punctuation from the sentence and print it back out. It should remove at least the following characters, but it can remove more: period(“.”), comma (“,”), semicolon (“;”), and colon (“:”)\n",
        "\n",
        "(5) Count the number of vowels in the sentences. Print out each vowel and the number of times it appears in the sentences, such as: a:2, e:1, i:0, etc"
      ]
    },
    {
      "cell_type": "code",
      "execution_count": 87,
      "metadata": {
        "colab": {
          "base_uri": "https://localhost:8080/"
        },
        "id": "Y0oOSlsOS0cq",
        "outputId": "8ccf1ffb-adb7-49b2-8e1b-480467f8695d"
      },
      "outputs": [
        {
          "output_type": "stream",
          "name": "stdout",
          "text": [
            "Enter first sentenseAlas! Am I alive? This is my first python program\n",
            "Enter second sentenseI am testing this function23@ 43 test_me\n",
            "The words in the first sentense: ['Alas', '!', 'Am', 'I', 'alive', '?', 'This', 'is', 'my', 'first', 'python', 'program']\n",
            "The words in the second sentense: ['I', 'am', 'testing', 'this', 'function23', '@', '43', 'test_me']\n",
            "Common words in two sentenses are: {'I'}\n",
            "Alas! Am I alive? This is my first python program after removing punctuations: Alas Am I alive This is my first python program\n",
            "I am testing this function23@ 43 test_me after removing punctuations: I am testing this function23 43 testme\n",
            "Number of vowels in Alas! Am I alive? This is my first python program are: {'a': 5, 'i': 5, 'e': 1, 'o': 2}\n",
            "Number of vowels in I am testing this function23@ 43 test_me are: {'i': 4, 'a': 1, 'e': 3, 'u': 1, 'o': 1}\n"
          ]
        }
      ],
      "source": [
        "import string\n",
        "import re\n",
        "# Your code here\n",
        "# Point 1\n",
        "sen_one = input('Enter first sentense')\n",
        "sen_two = input('Enter second sentense')\n",
        "\n",
        "sen_one_words = re.findall(r\"[\\w']+|[.,!?;#@]\", sen_one)\n",
        "sen_two_words = re.findall(r\"[\\w']+|[.,!?;#@]\", sen_two)\n",
        "# point 2\n",
        "print(f'The words in the first sentense: {sen_one_words}')\n",
        "print(f'The words in the second sentense: {sen_two_words}')\n",
        "# Point 3\n",
        "if (set(sen_one_words) & set(sen_two_words)):\n",
        "  print(f'Common words in two sentenses are: {set(sen_one_words) & set(sen_two_words)}')\n",
        "else:\n",
        "  print('No common words')\n",
        "\n",
        "# Point 4\n",
        "sen_one_rm_puct = sen_one.translate(str.maketrans(\"\", \"\", string.punctuation))\n",
        "sen_two_rm_puct = sen_two.translate(str.maketrans(\"\", \"\", string.punctuation))\n",
        "print(f'{sen_one} after removing punctuations: {sen_one_rm_puct}')\n",
        "print(f'{sen_two} after removing punctuations: {sen_two_rm_puct}')\n",
        "\n",
        "# Count vowels\n",
        "vowels = 'aeiou'\n",
        "sen_one_vowels_count = {}\n",
        "sen_two_vowels_count = {}\n",
        "\n",
        "for ch in sen_one.lower():\n",
        "  if ch in vowels:\n",
        "    if ch not in sen_one_vowels_count:\n",
        "      sen_one_vowels_count[ch] = 1\n",
        "    else:\n",
        "      sen_one_vowels_count[ch] = sen_one_vowels_count[ch] + 1\n",
        "\n",
        "for ch in sen_two.lower():\n",
        "  if ch in vowels:\n",
        "    if ch not in sen_two_vowels_count:\n",
        "      sen_two_vowels_count[ch] = 1\n",
        "    else:\n",
        "      sen_two_vowels_count[ch] = sen_two_vowels_count[ch] + 1\n",
        "\n",
        "print(f'Number of vowels in {sen_one} are: {sen_one_vowels_count}')\n",
        "print(f'Number of vowels in {sen_two} are: {sen_two_vowels_count}')"
      ]
    },
    {
      "cell_type": "markdown",
      "metadata": {
        "id": "CmFoI4jDS9nx"
      },
      "source": [
        "# Question 3 \n",
        "\n",
        "(15 points). The formula that describes the volume V of a sphere with radius r is the following:\n",
        "\n",
        "$ V=\\frac{4}{3}\\ast\\ \\pi\\ast\\ r^3 $\n",
        "\n",
        "Write a program to calculate the value of V when r is in the range of 1–10. Output the result in the following format:\n",
        "\n",
        "\tr\tV\n",
        "\t1\t…\n",
        "\t2\t…\n",
        "\t3\t…\n"
      ]
    },
    {
      "cell_type": "code",
      "execution_count": 81,
      "metadata": {
        "colab": {
          "base_uri": "https://localhost:8080/"
        },
        "id": "pEyqeioAT95b",
        "outputId": "41fba479-0275-442c-dc1d-4c45134f0405"
      },
      "outputs": [
        {
          "output_type": "stream",
          "name": "stdout",
          "text": [
            "r       V\n",
            "1       4.1887902047863905\n",
            "2       33.510321638291124\n",
            "3       113.09733552923254\n",
            "4       268.082573106329\n",
            "5       523.5987755982989\n",
            "6       904.7786842338603\n",
            "7       1436.7550402417319\n",
            "8       2144.660584850632\n",
            "9       3053.6280592892786\n",
            "10       4188.790204786391\n"
          ]
        }
      ],
      "source": [
        "# Your code here\n",
        "import math\n",
        "print(f'r {\" \"*5} V')\n",
        "for r in range(1, 11):\n",
        "  print(f'{r} {\" \"*5} {(4/3)* math.pi*(r**3)}')\n",
        "\n",
        "\n"
      ]
    },
    {
      "cell_type": "code",
      "execution_count": null,
      "metadata": {
        "id": "pMCr3l8tnu0j"
      },
      "outputs": [],
      "source": [
        ""
      ]
    },
    {
      "cell_type": "markdown",
      "metadata": {
        "id": "z3tBE7E-Xn5X"
      },
      "source": [
        "# Question 4\n",
        "\n",
        "(40 points). In the field of Data Science, data is often formatted as a comma-delimited (CSV) file, where each line in a file corresponds to a field's value. Refer to Chapter 9 (p. 106) for more information on comma-delimited files. To answer this question, you will need to download the file [Assignment1_denton_housing.csv](https://raw.githubusercontent.com/unt-iialab/info5731-spring2022/main/assignments/Assignment1_denton_housing.csv) included with this assignment. The file [Assignment1_denton_housing.csv](https://raw.githubusercontent.com/unt-iialab/info5731-spring2022/main/assignments/Assignment1_denton_housing.csv) contains statistics about housing in the city of Denton from 2008 to 2014. Write a program to implement the following questions.\n",
        "\n",
        "(1) (10 pts) Calculate the difference in the number of Occupied Housing Units from year to year and print it. The difference must be calculated for the consecutive years such as 2008-2009, 2009-2010 etc. Finally, print the values in the ascending order.\n",
        "\n",
        "(2) (10 pts) For all the years, calculate the percentage of housing units which are vacant an occupied. Print the results in the following format:\n",
        "\n",
        "Year Vacant Housing Units Occupied Housing Units\n",
        "\n",
        "    2008  30%   70%                          \n",
        "\t2009 ----- -----\n",
        "\t2010 ----- -----\n",
        "    2011 ----- -----\n",
        "\t2012 ----- -----\n",
        "    2013 ----- -----\n",
        "\t2014 ----- -----\n",
        "  \n",
        "  \n",
        "\n",
        "(3) (10 pts) Calculate and print the valued and years in which the highest number of housing units were vacant and occupied. Print the results in the following format:  \n",
        "\n",
        "                              Year\tValue\n",
        "\tVacant Housing Units\t  -----   -----\n",
        "\tOccupied Housing Units\t-----   -----\n",
        "\n",
        "(4) (10 pts) Calculate the harmonic mean of the total housing units and print it out. You can find the information about harmonic mean here: https://ncalculators.com/statistics/harmonic-mean-calculator.htm"
      ]
    },
    {
      "cell_type": "code",
      "execution_count": 82,
      "metadata": {
        "colab": {
          "base_uri": "https://localhost:8080/"
        },
        "id": "lqGYuHBhcsRH",
        "outputId": "6652d091-b33d-4a42-e200-d5cfa1e38958"
      },
      "outputs": [
        {
          "output_type": "stream",
          "name": "stdout",
          "text": [
            "Requirement already satisfied: pandas in /usr/local/lib/python3.7/dist-packages (1.3.5)\n",
            "Requirement already satisfied: numpy>=1.17.3 in /usr/local/lib/python3.7/dist-packages (from pandas) (1.19.5)\n",
            "Requirement already satisfied: python-dateutil>=2.7.3 in /usr/local/lib/python3.7/dist-packages (from pandas) (2.8.2)\n",
            "Requirement already satisfied: pytz>=2017.3 in /usr/local/lib/python3.7/dist-packages (from pandas) (2018.9)\n",
            "Requirement already satisfied: six>=1.5 in /usr/local/lib/python3.7/dist-packages (from python-dateutil>=2.7.3->pandas) (1.15.0)\n",
            "Data: \n",
            "\n",
            "    year             title_field  value\n",
            "0   2014     Total Housing Units  49109\n",
            "1   2014    Vacant Housing Units   2814\n",
            "2   2014  Occupied Housing Units  46295\n",
            "3   2013     Total Housing Units  47888\n",
            "4   2013    Vacant Housing Units   4215\n",
            "5   2013  Occupied Housing Units  43673\n",
            "6   2012     Total Housing Units  45121\n",
            "7   2012    Vacant Housing Units   3013\n",
            "8   2012  Occupied Housing Units  42108\n",
            "9   2011     Total Housing Units  44917\n",
            "10  2011    Vacant Housing Units   4213\n",
            "11  2011  Occupied Housing Units  40704\n",
            "12  2010     Total Housing Units  44642\n",
            "13  2010    Vacant Housing Units   3635\n",
            "14  2010  Occupied Housing Units  41007\n",
            "15  2009     Total Housing Units  39499\n",
            "16  2009    Vacant Housing Units   3583\n",
            "17  2009  Occupied Housing Units  35916\n",
            "18  2008     Total Housing Units  41194\n",
            "19  2008    Vacant Housing Units   4483\n",
            "20  2008  Occupied Housing Units  36711\n",
            "21  2014          Owner Occupied  21427\n",
            "22  2014         Renter Occupied  24868\n",
            "23  2013          Owner Occupied  20845\n",
            "24  2013         Renter Occupied  22828\n",
            "25  2012          Owner Occupied  20068\n",
            "26  2012         Renter Occupied  22040\n",
            "27  2011          Owner Occupied  18478\n",
            "28  2011         Renter Occupied  22226\n",
            "29  2010          Owner Occupied  18867\n",
            "30  2010         Renter Occupied  22140\n",
            "31  2009          Owner Occupied  18057\n",
            "32  2009         Renter Occupied  17859\n",
            "33  2008          Owner Occupied  17340\n",
            "34  2008         Renter Occupied  19371\n",
            "35  2014       Median Gross Rent    905\n",
            "36  2013       Median Gross Rent    887\n",
            "37  2012       Median Gross Rent    842\n",
            "38  2011       Median Gross Rent    821\n",
            "39  2010       Median Gross Rent    780\n",
            "40  2009       Median Gross Rent    769\n",
            "41  2008       Median Gross Rent    768\n"
          ]
        }
      ],
      "source": [
        "!pip install pandas\n",
        "import pandas as pd\n",
        "import numpy as np\n",
        "\n",
        "url=\"https://raw.githubusercontent.com/unt-iialab/info5731-spring2022/main/assignments/Assignment1_denton_housing.csv\"\n",
        "data = pd.read_csv(url)\n",
        "print('Data: \\n')\n",
        "print(data)"
      ]
    },
    {
      "cell_type": "markdown",
      "source": [
        "#####  Difference in the number of Occupied Housing Units from year to year"
      ],
      "metadata": {
        "id": "6tMig2kiibNz"
      }
    },
    {
      "cell_type": "code",
      "source": [
        "occu_housing_units = data[data['title_field'] == 'Occupied Housing Units']\n",
        "occu_housing_units = occu_housing_units.sort_values(by='year', ascending=True)\n",
        "occu_housing_units['value_diff'] = occu_housing_units['value'].diff()\n",
        "diff_years = [ f'{year+1} - {year}' for year in occu_housing_units['year'][:-1]]\n",
        "diff_occu_housing_units_by_year = pd.DataFrame({ \"diff_years\" : diff_years, 'value_diff': occu_housing_units['value_diff'][1:] }).sort_values(by='value_diff', ascending=True)\n",
        "diff_occu_housing_units_by_year"
      ],
      "metadata": {
        "colab": {
          "base_uri": "https://localhost:8080/",
          "height": 238
        },
        "id": "FuMz6Zi3iZ9d",
        "outputId": "f72ba205-6af0-456e-80a9-0f10b3055c4b"
      },
      "execution_count": 83,
      "outputs": [
        {
          "output_type": "execute_result",
          "data": {
            "text/html": [
              "\n",
              "  <div id=\"df-4aa38ea0-9235-414e-8f90-c5ea9ebb0302\">\n",
              "    <div class=\"colab-df-container\">\n",
              "      <div>\n",
              "<style scoped>\n",
              "    .dataframe tbody tr th:only-of-type {\n",
              "        vertical-align: middle;\n",
              "    }\n",
              "\n",
              "    .dataframe tbody tr th {\n",
              "        vertical-align: top;\n",
              "    }\n",
              "\n",
              "    .dataframe thead th {\n",
              "        text-align: right;\n",
              "    }\n",
              "</style>\n",
              "<table border=\"1\" class=\"dataframe\">\n",
              "  <thead>\n",
              "    <tr style=\"text-align: right;\">\n",
              "      <th></th>\n",
              "      <th>diff_years</th>\n",
              "      <th>value_diff</th>\n",
              "    </tr>\n",
              "  </thead>\n",
              "  <tbody>\n",
              "    <tr>\n",
              "      <th>17</th>\n",
              "      <td>2009 - 2008</td>\n",
              "      <td>-795.0</td>\n",
              "    </tr>\n",
              "    <tr>\n",
              "      <th>11</th>\n",
              "      <td>2011 - 2010</td>\n",
              "      <td>-303.0</td>\n",
              "    </tr>\n",
              "    <tr>\n",
              "      <th>8</th>\n",
              "      <td>2012 - 2011</td>\n",
              "      <td>1404.0</td>\n",
              "    </tr>\n",
              "    <tr>\n",
              "      <th>5</th>\n",
              "      <td>2013 - 2012</td>\n",
              "      <td>1565.0</td>\n",
              "    </tr>\n",
              "    <tr>\n",
              "      <th>2</th>\n",
              "      <td>2014 - 2013</td>\n",
              "      <td>2622.0</td>\n",
              "    </tr>\n",
              "    <tr>\n",
              "      <th>14</th>\n",
              "      <td>2010 - 2009</td>\n",
              "      <td>5091.0</td>\n",
              "    </tr>\n",
              "  </tbody>\n",
              "</table>\n",
              "</div>\n",
              "      <button class=\"colab-df-convert\" onclick=\"convertToInteractive('df-4aa38ea0-9235-414e-8f90-c5ea9ebb0302')\"\n",
              "              title=\"Convert this dataframe to an interactive table.\"\n",
              "              style=\"display:none;\">\n",
              "        \n",
              "  <svg xmlns=\"http://www.w3.org/2000/svg\" height=\"24px\"viewBox=\"0 0 24 24\"\n",
              "       width=\"24px\">\n",
              "    <path d=\"M0 0h24v24H0V0z\" fill=\"none\"/>\n",
              "    <path d=\"M18.56 5.44l.94 2.06.94-2.06 2.06-.94-2.06-.94-.94-2.06-.94 2.06-2.06.94zm-11 1L8.5 8.5l.94-2.06 2.06-.94-2.06-.94L8.5 2.5l-.94 2.06-2.06.94zm10 10l.94 2.06.94-2.06 2.06-.94-2.06-.94-.94-2.06-.94 2.06-2.06.94z\"/><path d=\"M17.41 7.96l-1.37-1.37c-.4-.4-.92-.59-1.43-.59-.52 0-1.04.2-1.43.59L10.3 9.45l-7.72 7.72c-.78.78-.78 2.05 0 2.83L4 21.41c.39.39.9.59 1.41.59.51 0 1.02-.2 1.41-.59l7.78-7.78 2.81-2.81c.8-.78.8-2.07 0-2.86zM5.41 20L4 18.59l7.72-7.72 1.47 1.35L5.41 20z\"/>\n",
              "  </svg>\n",
              "      </button>\n",
              "      \n",
              "  <style>\n",
              "    .colab-df-container {\n",
              "      display:flex;\n",
              "      flex-wrap:wrap;\n",
              "      gap: 12px;\n",
              "    }\n",
              "\n",
              "    .colab-df-convert {\n",
              "      background-color: #E8F0FE;\n",
              "      border: none;\n",
              "      border-radius: 50%;\n",
              "      cursor: pointer;\n",
              "      display: none;\n",
              "      fill: #1967D2;\n",
              "      height: 32px;\n",
              "      padding: 0 0 0 0;\n",
              "      width: 32px;\n",
              "    }\n",
              "\n",
              "    .colab-df-convert:hover {\n",
              "      background-color: #E2EBFA;\n",
              "      box-shadow: 0px 1px 2px rgba(60, 64, 67, 0.3), 0px 1px 3px 1px rgba(60, 64, 67, 0.15);\n",
              "      fill: #174EA6;\n",
              "    }\n",
              "\n",
              "    [theme=dark] .colab-df-convert {\n",
              "      background-color: #3B4455;\n",
              "      fill: #D2E3FC;\n",
              "    }\n",
              "\n",
              "    [theme=dark] .colab-df-convert:hover {\n",
              "      background-color: #434B5C;\n",
              "      box-shadow: 0px 1px 3px 1px rgba(0, 0, 0, 0.15);\n",
              "      filter: drop-shadow(0px 1px 2px rgba(0, 0, 0, 0.3));\n",
              "      fill: #FFFFFF;\n",
              "    }\n",
              "  </style>\n",
              "\n",
              "      <script>\n",
              "        const buttonEl =\n",
              "          document.querySelector('#df-4aa38ea0-9235-414e-8f90-c5ea9ebb0302 button.colab-df-convert');\n",
              "        buttonEl.style.display =\n",
              "          google.colab.kernel.accessAllowed ? 'block' : 'none';\n",
              "\n",
              "        async function convertToInteractive(key) {\n",
              "          const element = document.querySelector('#df-4aa38ea0-9235-414e-8f90-c5ea9ebb0302');\n",
              "          const dataTable =\n",
              "            await google.colab.kernel.invokeFunction('convertToInteractive',\n",
              "                                                     [key], {});\n",
              "          if (!dataTable) return;\n",
              "\n",
              "          const docLinkHtml = 'Like what you see? Visit the ' +\n",
              "            '<a target=\"_blank\" href=https://colab.research.google.com/notebooks/data_table.ipynb>data table notebook</a>'\n",
              "            + ' to learn more about interactive tables.';\n",
              "          element.innerHTML = '';\n",
              "          dataTable['output_type'] = 'display_data';\n",
              "          await google.colab.output.renderOutput(dataTable, element);\n",
              "          const docLink = document.createElement('div');\n",
              "          docLink.innerHTML = docLinkHtml;\n",
              "          element.appendChild(docLink);\n",
              "        }\n",
              "      </script>\n",
              "    </div>\n",
              "  </div>\n",
              "  "
            ],
            "text/plain": [
              "     diff_years  value_diff\n",
              "17  2009 - 2008      -795.0\n",
              "11  2011 - 2010      -303.0\n",
              "8   2012 - 2011      1404.0\n",
              "5   2013 - 2012      1565.0\n",
              "2   2014 - 2013      2622.0\n",
              "14  2010 - 2009      5091.0"
            ]
          },
          "metadata": {},
          "execution_count": 83
        }
      ]
    },
    {
      "cell_type": "markdown",
      "source": [
        "##### For all the years, calculate the percentage of housing units which are vacant an occupied"
      ],
      "metadata": {
        "id": "5djbCoLWikMo"
      }
    },
    {
      "cell_type": "markdown",
      "source": [
        "```\n",
        "Year Vacant Housing Units Occupied Housing Units\n",
        "\n",
        "2008  30%   70%                          \n",
        "2009 ----- -----\n",
        "2010 ----- -----\n",
        "2011 ----- -----\n",
        "2012 ----- -----\n",
        "2013 ----- -----\n",
        "2014 ----- -----\n",
        "\n",
        "```\n",
        "\n",
        "\n",
        "\n",
        "\n"
      ],
      "metadata": {
        "id": "Yu5tx4pWlYVF"
      }
    },
    {
      "cell_type": "code",
      "source": [
        "\n",
        "df_house_units = pd.DataFrame({\n",
        "    'year' : sorted(data['year'].unique())\n",
        "})\n",
        "df_house_units['year']\n",
        "total_units = [data[(data['year'] == year) & (data['title_field'] == 'Total Housing Units')]['value'].values[0] for year in sorted(data['year'].unique())]\n",
        "vac_house_units = [data[(data['year'] == year) & (data['title_field'] == 'Vacant Housing Units')]['value'].values[0] for year in sorted(data['year'].unique())]\n",
        "occ_house_units = [data[(data['year'] == year) & (data['title_field'] == 'Occupied Housing Units')]['value'].values[0] for year in sorted(data['year'].unique())]\n",
        "df_house_units['Total Housing Units'] = total_units\n",
        "df_house_units['Vacant Housing Units'] = vac_house_units\n",
        "df_house_units['Occupied Housing Units'] = occ_house_units\n",
        "df_house_units['per vacant housing units'] = (df_house_units['Vacant Housing Units'] / df_house_units['Total Housing Units'])*100\n",
        "df_house_units['per Occupied housing units'] = (df_house_units['Occupied Housing Units'] / df_house_units['Total Housing Units'])*100\n",
        "df_house_units['per vacant housing units'] = df_house_units['per vacant housing units'].astype(str) + '%'\n",
        "df_house_units['per Occupied housing units'] = df_house_units['per Occupied housing units'].astype(str) + '%'\n",
        "df_house_units[['year', 'per Occupied housing units', 'per vacant housing units']].rename(columns={'per vacant housing units': 'Vacant Housing Units', 'per Occupied housing units' : 'Occupied Housing Units'})"
      ],
      "metadata": {
        "colab": {
          "base_uri": "https://localhost:8080/",
          "height": 269
        },
        "id": "sFgsp6niitTM",
        "outputId": "3c3db03c-7e7a-45f0-cee0-b64b560ca155"
      },
      "execution_count": 84,
      "outputs": [
        {
          "output_type": "execute_result",
          "data": {
            "text/html": [
              "\n",
              "  <div id=\"df-56b883aa-edb8-471a-8041-2d48631b78c7\">\n",
              "    <div class=\"colab-df-container\">\n",
              "      <div>\n",
              "<style scoped>\n",
              "    .dataframe tbody tr th:only-of-type {\n",
              "        vertical-align: middle;\n",
              "    }\n",
              "\n",
              "    .dataframe tbody tr th {\n",
              "        vertical-align: top;\n",
              "    }\n",
              "\n",
              "    .dataframe thead th {\n",
              "        text-align: right;\n",
              "    }\n",
              "</style>\n",
              "<table border=\"1\" class=\"dataframe\">\n",
              "  <thead>\n",
              "    <tr style=\"text-align: right;\">\n",
              "      <th></th>\n",
              "      <th>year</th>\n",
              "      <th>Occupied Housing Units</th>\n",
              "      <th>Vacant Housing Units</th>\n",
              "    </tr>\n",
              "  </thead>\n",
              "  <tbody>\n",
              "    <tr>\n",
              "      <th>0</th>\n",
              "      <td>2008</td>\n",
              "      <td>89.11734718648347%</td>\n",
              "      <td>10.88265281351653%</td>\n",
              "    </tr>\n",
              "    <tr>\n",
              "      <th>1</th>\n",
              "      <td>2009</td>\n",
              "      <td>90.92888427555128%</td>\n",
              "      <td>9.07111572444872%</td>\n",
              "    </tr>\n",
              "    <tr>\n",
              "      <th>2</th>\n",
              "      <td>2010</td>\n",
              "      <td>91.85744366291833%</td>\n",
              "      <td>8.142556337081672%</td>\n",
              "    </tr>\n",
              "    <tr>\n",
              "      <th>3</th>\n",
              "      <td>2011</td>\n",
              "      <td>90.6204777701093%</td>\n",
              "      <td>9.379522229890688%</td>\n",
              "    </tr>\n",
              "    <tr>\n",
              "      <th>4</th>\n",
              "      <td>2012</td>\n",
              "      <td>93.32239976950866%</td>\n",
              "      <td>6.677600230491346%</td>\n",
              "    </tr>\n",
              "    <tr>\n",
              "      <th>5</th>\n",
              "      <td>2013</td>\n",
              "      <td>91.19821249582358%</td>\n",
              "      <td>8.801787504176412%</td>\n",
              "    </tr>\n",
              "    <tr>\n",
              "      <th>6</th>\n",
              "      <td>2014</td>\n",
              "      <td>94.26988942963611%</td>\n",
              "      <td>5.730110570363885%</td>\n",
              "    </tr>\n",
              "  </tbody>\n",
              "</table>\n",
              "</div>\n",
              "      <button class=\"colab-df-convert\" onclick=\"convertToInteractive('df-56b883aa-edb8-471a-8041-2d48631b78c7')\"\n",
              "              title=\"Convert this dataframe to an interactive table.\"\n",
              "              style=\"display:none;\">\n",
              "        \n",
              "  <svg xmlns=\"http://www.w3.org/2000/svg\" height=\"24px\"viewBox=\"0 0 24 24\"\n",
              "       width=\"24px\">\n",
              "    <path d=\"M0 0h24v24H0V0z\" fill=\"none\"/>\n",
              "    <path d=\"M18.56 5.44l.94 2.06.94-2.06 2.06-.94-2.06-.94-.94-2.06-.94 2.06-2.06.94zm-11 1L8.5 8.5l.94-2.06 2.06-.94-2.06-.94L8.5 2.5l-.94 2.06-2.06.94zm10 10l.94 2.06.94-2.06 2.06-.94-2.06-.94-.94-2.06-.94 2.06-2.06.94z\"/><path d=\"M17.41 7.96l-1.37-1.37c-.4-.4-.92-.59-1.43-.59-.52 0-1.04.2-1.43.59L10.3 9.45l-7.72 7.72c-.78.78-.78 2.05 0 2.83L4 21.41c.39.39.9.59 1.41.59.51 0 1.02-.2 1.41-.59l7.78-7.78 2.81-2.81c.8-.78.8-2.07 0-2.86zM5.41 20L4 18.59l7.72-7.72 1.47 1.35L5.41 20z\"/>\n",
              "  </svg>\n",
              "      </button>\n",
              "      \n",
              "  <style>\n",
              "    .colab-df-container {\n",
              "      display:flex;\n",
              "      flex-wrap:wrap;\n",
              "      gap: 12px;\n",
              "    }\n",
              "\n",
              "    .colab-df-convert {\n",
              "      background-color: #E8F0FE;\n",
              "      border: none;\n",
              "      border-radius: 50%;\n",
              "      cursor: pointer;\n",
              "      display: none;\n",
              "      fill: #1967D2;\n",
              "      height: 32px;\n",
              "      padding: 0 0 0 0;\n",
              "      width: 32px;\n",
              "    }\n",
              "\n",
              "    .colab-df-convert:hover {\n",
              "      background-color: #E2EBFA;\n",
              "      box-shadow: 0px 1px 2px rgba(60, 64, 67, 0.3), 0px 1px 3px 1px rgba(60, 64, 67, 0.15);\n",
              "      fill: #174EA6;\n",
              "    }\n",
              "\n",
              "    [theme=dark] .colab-df-convert {\n",
              "      background-color: #3B4455;\n",
              "      fill: #D2E3FC;\n",
              "    }\n",
              "\n",
              "    [theme=dark] .colab-df-convert:hover {\n",
              "      background-color: #434B5C;\n",
              "      box-shadow: 0px 1px 3px 1px rgba(0, 0, 0, 0.15);\n",
              "      filter: drop-shadow(0px 1px 2px rgba(0, 0, 0, 0.3));\n",
              "      fill: #FFFFFF;\n",
              "    }\n",
              "  </style>\n",
              "\n",
              "      <script>\n",
              "        const buttonEl =\n",
              "          document.querySelector('#df-56b883aa-edb8-471a-8041-2d48631b78c7 button.colab-df-convert');\n",
              "        buttonEl.style.display =\n",
              "          google.colab.kernel.accessAllowed ? 'block' : 'none';\n",
              "\n",
              "        async function convertToInteractive(key) {\n",
              "          const element = document.querySelector('#df-56b883aa-edb8-471a-8041-2d48631b78c7');\n",
              "          const dataTable =\n",
              "            await google.colab.kernel.invokeFunction('convertToInteractive',\n",
              "                                                     [key], {});\n",
              "          if (!dataTable) return;\n",
              "\n",
              "          const docLinkHtml = 'Like what you see? Visit the ' +\n",
              "            '<a target=\"_blank\" href=https://colab.research.google.com/notebooks/data_table.ipynb>data table notebook</a>'\n",
              "            + ' to learn more about interactive tables.';\n",
              "          element.innerHTML = '';\n",
              "          dataTable['output_type'] = 'display_data';\n",
              "          await google.colab.output.renderOutput(dataTable, element);\n",
              "          const docLink = document.createElement('div');\n",
              "          docLink.innerHTML = docLinkHtml;\n",
              "          element.appendChild(docLink);\n",
              "        }\n",
              "      </script>\n",
              "    </div>\n",
              "  </div>\n",
              "  "
            ],
            "text/plain": [
              "   year Occupied Housing Units Vacant Housing Units\n",
              "0  2008     89.11734718648347%   10.88265281351653%\n",
              "1  2009     90.92888427555128%    9.07111572444872%\n",
              "2  2010     91.85744366291833%   8.142556337081672%\n",
              "3  2011      90.6204777701093%   9.379522229890688%\n",
              "4  2012     93.32239976950866%   6.677600230491346%\n",
              "5  2013     91.19821249582358%   8.801787504176412%\n",
              "6  2014     94.26988942963611%   5.730110570363885%"
            ]
          },
          "metadata": {},
          "execution_count": 84
        }
      ]
    },
    {
      "cell_type": "markdown",
      "source": [
        "####  Calculate and print the valued and years in which the highest number of housing units were vacant and occupied. Print the results in the following format:\n",
        "\n",
        "\n",
        "```\n",
        "                          Year    Value\n",
        "Vacant Housing Units      -----   -----\n",
        "Occupied Housing Units    -----   -----\n",
        "```\n",
        "\n"
      ],
      "metadata": {
        "id": "spc4Mzaa3ATD"
      }
    },
    {
      "cell_type": "code",
      "source": [
        "max_vacant = df_house_units['Vacant Housing Units'].max()\n",
        "max_occupied = df_house_units['Occupied Housing Units'].max()\n",
        "max_vacant_year = df_house_units[df_house_units['Vacant Housing Units'] == max_vacant]['year'].values[0]\n",
        "max_occupied_year = df_house_units[df_house_units['Occupied Housing Units'] == max_occupied]['year'].values[0]\n",
        "print(f'{\" \"*30} Year {\" \"*5} Value \\n')\n",
        "print(f'Vacant Housing Units {\" \"*8} {max_vacant_year} {\" \"*5} {max_vacant}')\n",
        "print(f'Occupied Housing Units {\" \"*6} {max_occupied_year} {\" \"*5} {max_occupied}')"
      ],
      "metadata": {
        "colab": {
          "base_uri": "https://localhost:8080/"
        },
        "id": "3ynlDEGn3r1z",
        "outputId": "a99a93c1-cf7b-4f24-a5b2-aca839b6fd6e"
      },
      "execution_count": 85,
      "outputs": [
        {
          "output_type": "stream",
          "name": "stdout",
          "text": [
            "                               Year       Value \n",
            "\n",
            "Vacant Housing Units          2008       4483\n",
            "Occupied Housing Units        2014       46295\n"
          ]
        }
      ]
    },
    {
      "cell_type": "markdown",
      "source": [
        "#### Calculate the harmonic mean of the total housing units and print it out"
      ],
      "metadata": {
        "id": "_YBs9phl8Go9"
      }
    },
    {
      "cell_type": "code",
      "source": [
        "import statistics\n",
        "total_housing_units = data[data['title_field'] == 'Total Housing Units']['value'].tolist()\n",
        "h_mean = statistics.harmonic_mean(total_housing_units)\n",
        "print(f\"The harmonic mean of the total housing units is: {h_mean}\")"
      ],
      "metadata": {
        "colab": {
          "base_uri": "https://localhost:8080/"
        },
        "id": "TuUeEdZMvW90",
        "outputId": "f261c0c7-f230-4c8f-c2c9-e1c4cdda88aa"
      },
      "execution_count": 77,
      "outputs": [
        {
          "output_type": "stream",
          "name": "stdout",
          "text": [
            "The harmonic mean of the total housing units is: 44398.28543969185\n"
          ]
        }
      ]
    }
  ],
  "metadata": {
    "colab": {
      "collapsed_sections": [],
      "name": "INFO5731_Assignment_One_Vishnu_Boddeboina.ipynb",
      "provenance": []
    },
    "kernelspec": {
      "display_name": "Python 3",
      "language": "python",
      "name": "python3"
    },
    "language_info": {
      "codemirror_mode": {
        "name": "ipython",
        "version": 3
      },
      "file_extension": ".py",
      "mimetype": "text/x-python",
      "name": "python",
      "nbconvert_exporter": "python",
      "pygments_lexer": "ipython3",
      "version": "3.8.5"
    }
  },
  "nbformat": 4,
  "nbformat_minor": 0
}