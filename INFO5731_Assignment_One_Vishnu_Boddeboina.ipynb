{
  "cells": [
    {
      "cell_type": "markdown",
      "metadata": {
        "id": "view-in-github"
      },
      "source": [
        "<a href=\"https://colab.research.google.com/github/unt-iialab/INFO5731_Spring2020/blob/master/Assignments/INFO5731_Assignment_One.ipynb\" target=\"_parent\"><img src=\"https://colab.research.google.com/assets/colab-badge.svg\" alt=\"Open In Colab\"/></a>"
      ]
    },
    {
      "cell_type": "markdown",
      "metadata": {
        "id": "Ryk8D1Q4Wsrp"
      },
      "source": [
        "# **INFO5731 Assignment One**"
      ]
    },
    {
      "cell_type": "markdown",
      "metadata": {
        "id": "90_NR8c5XGWc"
      },
      "source": [
        "# Question 1\n",
        "\n",
        "(20 points). Write a Python program to generate 12 random numbers between 1 and 100. Sort the list of numbers in ascending order and print it out. Sort the list of numbers in descending order and print it out. Calculate the average for the group and print it out."
      ]
    },
    {
      "cell_type": "code",
      "execution_count": 88,
      "metadata": {
        "colab": {
          "base_uri": "https://localhost:8080/"
        },
        "id": "5QX6bJjGWXY9",
        "outputId": "055c298a-10b7-4f7b-9f78-4b45f29eeab9"
      },
      "outputs": [
        {
          "output_type": "stream",
          "name": "stdout",
          "text": [
            "Random numbers: [37 97 59  9 82 76 35 49 72 12 48 54]\n",
            "Decending order: [97, 82, 76, 72, 59, 54, 49, 48, 37, 35, 12, 9]\n",
            "Ascending order: [9, 12, 35, 37, 48, 49, 54, 59, 72, 76, 82, 97]\n",
            "Average: 52.5\n"
          ]
        }
      ],
      "source": [
        "# Import libraries\n",
        "from numpy.random import seed\n",
        "from numpy.random import randint\n",
        "\n",
        "# generate some integers\n",
        "random_nums = randint(1, 101, 12)\n",
        "print(f'Random numbers: {random_nums}')\n",
        "print(f'Decending order: {sorted(random_nums, reverse=True)}')\n",
        "print(f'Ascending order: {sorted(random_nums, reverse=False)}')\n",
        "print(f'Average: {sum(random_nums)/len(random_nums)}')\n"
      ]
    },
    {
      "cell_type": "markdown",
      "metadata": {
        "id": "1F_PZdH9Sh49"
      },
      "source": [
        "# Question 2\n",
        "(25 points). Write a program that will do the following string formatting tasks:\n",
        "\n",
        "(1) Ask the user to enter two sentences.\n",
        "\n",
        "(2) Make each sentence into a list. Each element in the list should correspond to a word in the sentence. For example, if the sentence is \"Alas! Am I alive? This is my first python program\", the program should print out ['Alas, '!', 'Am', 'I', 'alive, '?', 'This', 'is', 'my', 'first', 'python', 'program'].\n",
        "\n",
        "(3) Compare the two sentences. Print out a list of words that occur in both sentences.\n",
        "\n",
        "(4) Remove any punctuation from the sentence and print it back out. It should remove at least the following characters, but it can remove more: period(“.”), comma (“,”), semicolon (“;”), and colon (“:”)\n",
        "\n",
        "(5) Count the number of vowels in the sentences. Print out each vowel and the number of times it appears in the sentences, such as: a:2, e:1, i:0, etc"
      ]
    },
    {
      "cell_type": "code",
      "execution_count": 89,
      "metadata": {
        "colab": {
          "base_uri": "https://localhost:8080/"
        },
        "id": "Y0oOSlsOS0cq",
        "outputId": "cd6e82b5-9954-47dd-f83c-0c2102f42d73"
      },
      "outputs": [
        {
          "output_type": "stream",
          "name": "stdout",
          "text": [
            "Enter first sentense: Alas! Am I alive? This is my first python program\n",
            "Enter second sentense: Hello@world, This is computational linquistix @!@test class\n",
            "\n",
            "The words in the first sentense are: ['Alas', '!', 'Am', 'I', 'alive', '?', 'This', 'is', 'my', 'first', 'python', 'program']\n",
            "The words in the second sentense are: ['Hello', '@', 'world', ',', 'This', 'is', 'computational', 'linquistix', '@', '!', '@', 'test', 'class']\n",
            "\n",
            "Common words in two sentenses are: {'!', 'is', 'This'}\n",
            "\n",
            "Alas! Am I alive? This is my first python program after removing punctuations : Alas Am I alive This is my first python program\n",
            "Hello@world, This is computational linquistix @!@test class after removing punctuations : Helloworld This is computational linquistix test class\n",
            "\n",
            "Number of vowels in Alas! Am I alive? This is my first python program are: {'a': 5, 'i': 5, 'e': 1, 'o': 2}\n",
            "Number of vowels in Hello@world, This is computational linquistix @!@test class are: {'e': 2, 'o': 4, 'i': 6, 'u': 2, 'a': 3}\n"
          ]
        }
      ],
      "source": [
        "import string\n",
        "import re\n",
        "# Your code here\n",
        "# Point 1\n",
        "sen_one = input('Enter first sentense: ')\n",
        "sen_two = input('Enter second sentense: ')\n",
        "\n",
        "sen_one_words = re.findall(r\"[\\w']+|[.,!?;#@]\", sen_one)\n",
        "sen_two_words = re.findall(r\"[\\w']+|[.,!?;#@]\", sen_two)\n",
        "\n",
        "# point 2\n",
        "print(f'\\nThe words in the first sentense are: {sen_one_words}')\n",
        "print(f'The words in the second sentense are: {sen_two_words}')\n",
        "\n",
        "# Point 3\n",
        "if (set(sen_one_words) & set(sen_two_words)):\n",
        "  print(f'\\nCommon words in two sentenses are: {set(sen_one_words) & set(sen_two_words)}')\n",
        "else:\n",
        "  print('No common words')\n",
        "\n",
        "# Point 4\n",
        "sen_one_rm_puct = sen_one.translate(str.maketrans(\"\", \"\", string.punctuation))\n",
        "sen_two_rm_puct = sen_two.translate(str.maketrans(\"\", \"\", string.punctuation))\n",
        "print(f'\\n{sen_one} after removing punctuations : {sen_one_rm_puct}')\n",
        "print(f'{sen_two} after removing punctuations : {sen_two_rm_puct}')\n",
        "\n",
        "# Count vowels\n",
        "vowels = 'aeiou'\n",
        "sen_one_vowels_count = {}\n",
        "sen_two_vowels_count = {}\n",
        "\n",
        "for ch in sen_one.lower():\n",
        "  if ch in vowels:\n",
        "    if ch not in sen_one_vowels_count:\n",
        "      sen_one_vowels_count[ch] = 1\n",
        "    else:\n",
        "      sen_one_vowels_count[ch] = sen_one_vowels_count[ch] + 1\n",
        "\n",
        "for ch in sen_two.lower():\n",
        "  if ch in vowels:\n",
        "    if ch not in sen_two_vowels_count:\n",
        "      sen_two_vowels_count[ch] = 1\n",
        "    else:\n",
        "      sen_two_vowels_count[ch] = sen_two_vowels_count[ch] + 1\n",
        "\n",
        "print(f'\\nNumber of vowels in {sen_one} are: {sen_one_vowels_count}')\n",
        "print(f'Number of vowels in {sen_two} are: {sen_two_vowels_count}')"
      ]
    },
    {
      "cell_type": "markdown",
      "metadata": {
        "id": "CmFoI4jDS9nx"
      },
      "source": [
        "# Question 3 \n",
        "\n",
        "(15 points). The formula that describes the volume V of a sphere with radius r is the following:\n",
        "\n",
        "$ V=\\frac{4}{3}\\ast\\ \\pi\\ast\\ r^3 $\n",
        "\n",
        "Write a program to calculate the value of V when r is in the range of 1–10. Output the result in the following format:\n",
        "\n",
        "\tr\tV\n",
        "\t1\t…\n",
        "\t2\t…\n",
        "\t3\t…\n"
      ]
    },
    {
      "cell_type": "code",
      "execution_count": 90,
      "metadata": {
        "colab": {
          "base_uri": "https://localhost:8080/"
        },
        "id": "pEyqeioAT95b",
        "outputId": "c8218982-9688-4895-9871-2e3e2bccd953"
      },
      "outputs": [
        {
          "output_type": "stream",
          "name": "stdout",
          "text": [
            "r       V\n",
            "1       4.1887902047863905\n",
            "2       33.510321638291124\n",
            "3       113.09733552923254\n",
            "4       268.082573106329\n",
            "5       523.5987755982989\n",
            "6       904.7786842338603\n",
            "7       1436.7550402417319\n",
            "8       2144.660584850632\n",
            "9       3053.6280592892786\n",
            "10       4188.790204786391\n"
          ]
        }
      ],
      "source": [
        "# Your code here\n",
        "import math\n",
        "print(f'r {\" \"*5} V')\n",
        "for r in range(1, 11):\n",
        "  print(f'{r} {\" \"*5} {(4/3)* math.pi*(r**3)}')\n",
        "\n",
        "\n"
      ]
    },
    {
      "cell_type": "code",
      "execution_count": null,
      "metadata": {
        "id": "pMCr3l8tnu0j"
      },
      "outputs": [],
      "source": [
        ""
      ]
    },
    {
      "cell_type": "markdown",
      "metadata": {
        "id": "z3tBE7E-Xn5X"
      },
      "source": [
        "# Question 4\n",
        "\n",
        "(40 points). In the field of Data Science, data is often formatted as a comma-delimited (CSV) file, where each line in a file corresponds to a field's value. Refer to Chapter 9 (p. 106) for more information on comma-delimited files. To answer this question, you will need to download the file [Assignment1_denton_housing.csv](https://raw.githubusercontent.com/unt-iialab/info5731-spring2022/main/assignments/Assignment1_denton_housing.csv) included with this assignment. The file [Assignment1_denton_housing.csv](https://raw.githubusercontent.com/unt-iialab/info5731-spring2022/main/assignments/Assignment1_denton_housing.csv) contains statistics about housing in the city of Denton from 2008 to 2014. Write a program to implement the following questions.\n",
        "\n",
        "(1) (10 pts) Calculate the difference in the number of Occupied Housing Units from year to year and print it. The difference must be calculated for the consecutive years such as 2008-2009, 2009-2010 etc. Finally, print the values in the ascending order.\n",
        "\n",
        "(2) (10 pts) For all the years, calculate the percentage of housing units which are vacant an occupied. Print the results in the following format:\n",
        "\n",
        "Year Vacant Housing Units Occupied Housing Units\n",
        "\n",
        "    2008  30%   70%                          \n",
        "\t2009 ----- -----\n",
        "\t2010 ----- -----\n",
        "    2011 ----- -----\n",
        "\t2012 ----- -----\n",
        "    2013 ----- -----\n",
        "\t2014 ----- -----\n",
        "  \n",
        "  \n",
        "\n",
        "(3) (10 pts) Calculate and print the valued and years in which the highest number of housing units were vacant and occupied. Print the results in the following format:  \n",
        "\n",
        "                              Year\tValue\n",
        "\tVacant Housing Units\t  -----   -----\n",
        "\tOccupied Housing Units\t-----   -----\n",
        "\n",
        "(4) (10 pts) Calculate the harmonic mean of the total housing units and print it out. You can find the information about harmonic mean here: https://ncalculators.com/statistics/harmonic-mean-calculator.htm"
      ]
    },
    {
      "cell_type": "code",
      "execution_count": 91,
      "metadata": {
        "colab": {
          "base_uri": "https://localhost:8080/",
          "height": 328
        },
        "id": "lqGYuHBhcsRH",
        "outputId": "122be03e-bea1-4dd1-9201-9ca37202d8ff"
      },
      "outputs": [
        {
          "output_type": "stream",
          "name": "stdout",
          "text": [
            "Requirement already satisfied: pandas in /usr/local/lib/python3.7/dist-packages (1.3.5)\n",
            "Requirement already satisfied: numpy>=1.17.3 in /usr/local/lib/python3.7/dist-packages (from pandas) (1.19.5)\n",
            "Requirement already satisfied: pytz>=2017.3 in /usr/local/lib/python3.7/dist-packages (from pandas) (2018.9)\n",
            "Requirement already satisfied: python-dateutil>=2.7.3 in /usr/local/lib/python3.7/dist-packages (from pandas) (2.8.2)\n",
            "Requirement already satisfied: six>=1.5 in /usr/local/lib/python3.7/dist-packages (from python-dateutil>=2.7.3->pandas) (1.15.0)\n",
            "Data: \n",
            "\n"
          ]
        },
        {
          "output_type": "execute_result",
          "data": {
            "text/html": [
              "\n",
              "  <div id=\"df-0ee56e7f-af9f-40fc-9f3d-f9e6875c532e\">\n",
              "    <div class=\"colab-df-container\">\n",
              "      <div>\n",
              "<style scoped>\n",
              "    .dataframe tbody tr th:only-of-type {\n",
              "        vertical-align: middle;\n",
              "    }\n",
              "\n",
              "    .dataframe tbody tr th {\n",
              "        vertical-align: top;\n",
              "    }\n",
              "\n",
              "    .dataframe thead th {\n",
              "        text-align: right;\n",
              "    }\n",
              "</style>\n",
              "<table border=\"1\" class=\"dataframe\">\n",
              "  <thead>\n",
              "    <tr style=\"text-align: right;\">\n",
              "      <th></th>\n",
              "      <th>year</th>\n",
              "      <th>title_field</th>\n",
              "      <th>value</th>\n",
              "    </tr>\n",
              "  </thead>\n",
              "  <tbody>\n",
              "    <tr>\n",
              "      <th>0</th>\n",
              "      <td>2014</td>\n",
              "      <td>Total Housing Units</td>\n",
              "      <td>49109</td>\n",
              "    </tr>\n",
              "    <tr>\n",
              "      <th>1</th>\n",
              "      <td>2014</td>\n",
              "      <td>Vacant Housing Units</td>\n",
              "      <td>2814</td>\n",
              "    </tr>\n",
              "    <tr>\n",
              "      <th>2</th>\n",
              "      <td>2014</td>\n",
              "      <td>Occupied Housing Units</td>\n",
              "      <td>46295</td>\n",
              "    </tr>\n",
              "    <tr>\n",
              "      <th>3</th>\n",
              "      <td>2013</td>\n",
              "      <td>Total Housing Units</td>\n",
              "      <td>47888</td>\n",
              "    </tr>\n",
              "    <tr>\n",
              "      <th>4</th>\n",
              "      <td>2013</td>\n",
              "      <td>Vacant Housing Units</td>\n",
              "      <td>4215</td>\n",
              "    </tr>\n",
              "  </tbody>\n",
              "</table>\n",
              "</div>\n",
              "      <button class=\"colab-df-convert\" onclick=\"convertToInteractive('df-0ee56e7f-af9f-40fc-9f3d-f9e6875c532e')\"\n",
              "              title=\"Convert this dataframe to an interactive table.\"\n",
              "              style=\"display:none;\">\n",
              "        \n",
              "  <svg xmlns=\"http://www.w3.org/2000/svg\" height=\"24px\"viewBox=\"0 0 24 24\"\n",
              "       width=\"24px\">\n",
              "    <path d=\"M0 0h24v24H0V0z\" fill=\"none\"/>\n",
              "    <path d=\"M18.56 5.44l.94 2.06.94-2.06 2.06-.94-2.06-.94-.94-2.06-.94 2.06-2.06.94zm-11 1L8.5 8.5l.94-2.06 2.06-.94-2.06-.94L8.5 2.5l-.94 2.06-2.06.94zm10 10l.94 2.06.94-2.06 2.06-.94-2.06-.94-.94-2.06-.94 2.06-2.06.94z\"/><path d=\"M17.41 7.96l-1.37-1.37c-.4-.4-.92-.59-1.43-.59-.52 0-1.04.2-1.43.59L10.3 9.45l-7.72 7.72c-.78.78-.78 2.05 0 2.83L4 21.41c.39.39.9.59 1.41.59.51 0 1.02-.2 1.41-.59l7.78-7.78 2.81-2.81c.8-.78.8-2.07 0-2.86zM5.41 20L4 18.59l7.72-7.72 1.47 1.35L5.41 20z\"/>\n",
              "  </svg>\n",
              "      </button>\n",
              "      \n",
              "  <style>\n",
              "    .colab-df-container {\n",
              "      display:flex;\n",
              "      flex-wrap:wrap;\n",
              "      gap: 12px;\n",
              "    }\n",
              "\n",
              "    .colab-df-convert {\n",
              "      background-color: #E8F0FE;\n",
              "      border: none;\n",
              "      border-radius: 50%;\n",
              "      cursor: pointer;\n",
              "      display: none;\n",
              "      fill: #1967D2;\n",
              "      height: 32px;\n",
              "      padding: 0 0 0 0;\n",
              "      width: 32px;\n",
              "    }\n",
              "\n",
              "    .colab-df-convert:hover {\n",
              "      background-color: #E2EBFA;\n",
              "      box-shadow: 0px 1px 2px rgba(60, 64, 67, 0.3), 0px 1px 3px 1px rgba(60, 64, 67, 0.15);\n",
              "      fill: #174EA6;\n",
              "    }\n",
              "\n",
              "    [theme=dark] .colab-df-convert {\n",
              "      background-color: #3B4455;\n",
              "      fill: #D2E3FC;\n",
              "    }\n",
              "\n",
              "    [theme=dark] .colab-df-convert:hover {\n",
              "      background-color: #434B5C;\n",
              "      box-shadow: 0px 1px 3px 1px rgba(0, 0, 0, 0.15);\n",
              "      filter: drop-shadow(0px 1px 2px rgba(0, 0, 0, 0.3));\n",
              "      fill: #FFFFFF;\n",
              "    }\n",
              "  </style>\n",
              "\n",
              "      <script>\n",
              "        const buttonEl =\n",
              "          document.querySelector('#df-0ee56e7f-af9f-40fc-9f3d-f9e6875c532e button.colab-df-convert');\n",
              "        buttonEl.style.display =\n",
              "          google.colab.kernel.accessAllowed ? 'block' : 'none';\n",
              "\n",
              "        async function convertToInteractive(key) {\n",
              "          const element = document.querySelector('#df-0ee56e7f-af9f-40fc-9f3d-f9e6875c532e');\n",
              "          const dataTable =\n",
              "            await google.colab.kernel.invokeFunction('convertToInteractive',\n",
              "                                                     [key], {});\n",
              "          if (!dataTable) return;\n",
              "\n",
              "          const docLinkHtml = 'Like what you see? Visit the ' +\n",
              "            '<a target=\"_blank\" href=https://colab.research.google.com/notebooks/data_table.ipynb>data table notebook</a>'\n",
              "            + ' to learn more about interactive tables.';\n",
              "          element.innerHTML = '';\n",
              "          dataTable['output_type'] = 'display_data';\n",
              "          await google.colab.output.renderOutput(dataTable, element);\n",
              "          const docLink = document.createElement('div');\n",
              "          docLink.innerHTML = docLinkHtml;\n",
              "          element.appendChild(docLink);\n",
              "        }\n",
              "      </script>\n",
              "    </div>\n",
              "  </div>\n",
              "  "
            ],
            "text/plain": [
              "   year             title_field  value\n",
              "0  2014     Total Housing Units  49109\n",
              "1  2014    Vacant Housing Units   2814\n",
              "2  2014  Occupied Housing Units  46295\n",
              "3  2013     Total Housing Units  47888\n",
              "4  2013    Vacant Housing Units   4215"
            ]
          },
          "metadata": {},
          "execution_count": 91
        }
      ],
      "source": [
        "!pip install pandas\n",
        "import pandas as pd\n",
        "import numpy as np\n",
        "\n",
        "url=\"https://raw.githubusercontent.com/unt-iialab/info5731-spring2022/main/assignments/Assignment1_denton_housing.csv\"\n",
        "data = pd.read_csv(url)\n",
        "print('Data: \\n')\n",
        "data.head()"
      ]
    },
    {
      "cell_type": "markdown",
      "source": [
        "#####  Calculate the difference in the number of Occupied Housing Units from year to year and print it. The difference must be calculated for the consecutive years such as 2008-2009, 2009-2010 etc. Finally, print the values in the ascending order."
      ],
      "metadata": {
        "id": "6tMig2kiibNz"
      }
    },
    {
      "cell_type": "code",
      "source": [
        "occu_housing_units = data[data['title_field'] == 'Occupied Housing Units']\n",
        "occu_housing_units = occu_housing_units.sort_values(by='year', ascending=True)\n",
        "occu_housing_units['value_diff'] = occu_housing_units['value'].diff()\n",
        "diff_years = [ f'{year+1} - {year}' for year in occu_housing_units['year'][:-1]]\n",
        "diff_occu_housing_units_by_year = pd.DataFrame({ \"diff_years\" : diff_years, 'value_diff': occu_housing_units['value_diff'][1:] }).sort_values(by='value_diff', ascending=True)\n",
        "diff_occu_housing_units_by_year"
      ],
      "metadata": {
        "colab": {
          "base_uri": "https://localhost:8080/",
          "height": 238
        },
        "id": "FuMz6Zi3iZ9d",
        "outputId": "83fe97df-1bcd-4b2e-d385-28eaaab946ac"
      },
      "execution_count": 92,
      "outputs": [
        {
          "output_type": "execute_result",
          "data": {
            "text/html": [
              "\n",
              "  <div id=\"df-5d7078a3-6e96-4b25-ab17-eeb26f31c319\">\n",
              "    <div class=\"colab-df-container\">\n",
              "      <div>\n",
              "<style scoped>\n",
              "    .dataframe tbody tr th:only-of-type {\n",
              "        vertical-align: middle;\n",
              "    }\n",
              "\n",
              "    .dataframe tbody tr th {\n",
              "        vertical-align: top;\n",
              "    }\n",
              "\n",
              "    .dataframe thead th {\n",
              "        text-align: right;\n",
              "    }\n",
              "</style>\n",
              "<table border=\"1\" class=\"dataframe\">\n",
              "  <thead>\n",
              "    <tr style=\"text-align: right;\">\n",
              "      <th></th>\n",
              "      <th>diff_years</th>\n",
              "      <th>value_diff</th>\n",
              "    </tr>\n",
              "  </thead>\n",
              "  <tbody>\n",
              "    <tr>\n",
              "      <th>17</th>\n",
              "      <td>2009 - 2008</td>\n",
              "      <td>-795.0</td>\n",
              "    </tr>\n",
              "    <tr>\n",
              "      <th>11</th>\n",
              "      <td>2011 - 2010</td>\n",
              "      <td>-303.0</td>\n",
              "    </tr>\n",
              "    <tr>\n",
              "      <th>8</th>\n",
              "      <td>2012 - 2011</td>\n",
              "      <td>1404.0</td>\n",
              "    </tr>\n",
              "    <tr>\n",
              "      <th>5</th>\n",
              "      <td>2013 - 2012</td>\n",
              "      <td>1565.0</td>\n",
              "    </tr>\n",
              "    <tr>\n",
              "      <th>2</th>\n",
              "      <td>2014 - 2013</td>\n",
              "      <td>2622.0</td>\n",
              "    </tr>\n",
              "    <tr>\n",
              "      <th>14</th>\n",
              "      <td>2010 - 2009</td>\n",
              "      <td>5091.0</td>\n",
              "    </tr>\n",
              "  </tbody>\n",
              "</table>\n",
              "</div>\n",
              "      <button class=\"colab-df-convert\" onclick=\"convertToInteractive('df-5d7078a3-6e96-4b25-ab17-eeb26f31c319')\"\n",
              "              title=\"Convert this dataframe to an interactive table.\"\n",
              "              style=\"display:none;\">\n",
              "        \n",
              "  <svg xmlns=\"http://www.w3.org/2000/svg\" height=\"24px\"viewBox=\"0 0 24 24\"\n",
              "       width=\"24px\">\n",
              "    <path d=\"M0 0h24v24H0V0z\" fill=\"none\"/>\n",
              "    <path d=\"M18.56 5.44l.94 2.06.94-2.06 2.06-.94-2.06-.94-.94-2.06-.94 2.06-2.06.94zm-11 1L8.5 8.5l.94-2.06 2.06-.94-2.06-.94L8.5 2.5l-.94 2.06-2.06.94zm10 10l.94 2.06.94-2.06 2.06-.94-2.06-.94-.94-2.06-.94 2.06-2.06.94z\"/><path d=\"M17.41 7.96l-1.37-1.37c-.4-.4-.92-.59-1.43-.59-.52 0-1.04.2-1.43.59L10.3 9.45l-7.72 7.72c-.78.78-.78 2.05 0 2.83L4 21.41c.39.39.9.59 1.41.59.51 0 1.02-.2 1.41-.59l7.78-7.78 2.81-2.81c.8-.78.8-2.07 0-2.86zM5.41 20L4 18.59l7.72-7.72 1.47 1.35L5.41 20z\"/>\n",
              "  </svg>\n",
              "      </button>\n",
              "      \n",
              "  <style>\n",
              "    .colab-df-container {\n",
              "      display:flex;\n",
              "      flex-wrap:wrap;\n",
              "      gap: 12px;\n",
              "    }\n",
              "\n",
              "    .colab-df-convert {\n",
              "      background-color: #E8F0FE;\n",
              "      border: none;\n",
              "      border-radius: 50%;\n",
              "      cursor: pointer;\n",
              "      display: none;\n",
              "      fill: #1967D2;\n",
              "      height: 32px;\n",
              "      padding: 0 0 0 0;\n",
              "      width: 32px;\n",
              "    }\n",
              "\n",
              "    .colab-df-convert:hover {\n",
              "      background-color: #E2EBFA;\n",
              "      box-shadow: 0px 1px 2px rgba(60, 64, 67, 0.3), 0px 1px 3px 1px rgba(60, 64, 67, 0.15);\n",
              "      fill: #174EA6;\n",
              "    }\n",
              "\n",
              "    [theme=dark] .colab-df-convert {\n",
              "      background-color: #3B4455;\n",
              "      fill: #D2E3FC;\n",
              "    }\n",
              "\n",
              "    [theme=dark] .colab-df-convert:hover {\n",
              "      background-color: #434B5C;\n",
              "      box-shadow: 0px 1px 3px 1px rgba(0, 0, 0, 0.15);\n",
              "      filter: drop-shadow(0px 1px 2px rgba(0, 0, 0, 0.3));\n",
              "      fill: #FFFFFF;\n",
              "    }\n",
              "  </style>\n",
              "\n",
              "      <script>\n",
              "        const buttonEl =\n",
              "          document.querySelector('#df-5d7078a3-6e96-4b25-ab17-eeb26f31c319 button.colab-df-convert');\n",
              "        buttonEl.style.display =\n",
              "          google.colab.kernel.accessAllowed ? 'block' : 'none';\n",
              "\n",
              "        async function convertToInteractive(key) {\n",
              "          const element = document.querySelector('#df-5d7078a3-6e96-4b25-ab17-eeb26f31c319');\n",
              "          const dataTable =\n",
              "            await google.colab.kernel.invokeFunction('convertToInteractive',\n",
              "                                                     [key], {});\n",
              "          if (!dataTable) return;\n",
              "\n",
              "          const docLinkHtml = 'Like what you see? Visit the ' +\n",
              "            '<a target=\"_blank\" href=https://colab.research.google.com/notebooks/data_table.ipynb>data table notebook</a>'\n",
              "            + ' to learn more about interactive tables.';\n",
              "          element.innerHTML = '';\n",
              "          dataTable['output_type'] = 'display_data';\n",
              "          await google.colab.output.renderOutput(dataTable, element);\n",
              "          const docLink = document.createElement('div');\n",
              "          docLink.innerHTML = docLinkHtml;\n",
              "          element.appendChild(docLink);\n",
              "        }\n",
              "      </script>\n",
              "    </div>\n",
              "  </div>\n",
              "  "
            ],
            "text/plain": [
              "     diff_years  value_diff\n",
              "17  2009 - 2008      -795.0\n",
              "11  2011 - 2010      -303.0\n",
              "8   2012 - 2011      1404.0\n",
              "5   2013 - 2012      1565.0\n",
              "2   2014 - 2013      2622.0\n",
              "14  2010 - 2009      5091.0"
            ]
          },
          "metadata": {},
          "execution_count": 92
        }
      ]
    },
    {
      "cell_type": "markdown",
      "source": [
        "##### For all the years, calculate the percentage of housing units which are vacant an occupied"
      ],
      "metadata": {
        "id": "5djbCoLWikMo"
      }
    },
    {
      "cell_type": "markdown",
      "source": [
        "```\n",
        "Year Vacant Housing Units Occupied Housing Units\n",
        "\n",
        "2008  30%   70%                          \n",
        "2009 ----- -----\n",
        "2010 ----- -----\n",
        "2011 ----- -----\n",
        "2012 ----- -----\n",
        "2013 ----- -----\n",
        "2014 ----- -----\n",
        "\n",
        "```\n",
        "\n",
        "\n",
        "\n",
        "\n"
      ],
      "metadata": {
        "id": "Yu5tx4pWlYVF"
      }
    },
    {
      "cell_type": "code",
      "source": [
        "\n",
        "df_house_units = pd.DataFrame({\n",
        "    'year' : sorted(data['year'].unique())\n",
        "})\n",
        "df_house_units['year']\n",
        "total_units = [data[(data['year'] == year) & (data['title_field'] == 'Total Housing Units')]['value'].values[0] for year in sorted(data['year'].unique())]\n",
        "vac_house_units = [data[(data['year'] == year) & (data['title_field'] == 'Vacant Housing Units')]['value'].values[0] for year in sorted(data['year'].unique())]\n",
        "occ_house_units = [data[(data['year'] == year) & (data['title_field'] == 'Occupied Housing Units')]['value'].values[0] for year in sorted(data['year'].unique())]\n",
        "df_house_units['Total Housing Units'] = total_units\n",
        "df_house_units['Vacant Housing Units'] = vac_house_units\n",
        "df_house_units['Occupied Housing Units'] = occ_house_units\n",
        "df_house_units['per vacant housing units'] = (df_house_units['Vacant Housing Units'] / df_house_units['Total Housing Units'])*100\n",
        "df_house_units['per Occupied housing units'] = (df_house_units['Occupied Housing Units'] / df_house_units['Total Housing Units'])*100\n",
        "df_house_units['per vacant housing units'] = df_house_units['per vacant housing units'].astype(str) + '%'\n",
        "df_house_units['per Occupied housing units'] = df_house_units['per Occupied housing units'].astype(str) + '%'\n",
        "df_house_units[['year', 'per Occupied housing units', 'per vacant housing units']].rename(columns={'per vacant housing units': 'Vacant Housing Units', 'per Occupied housing units' : 'Occupied Housing Units'})"
      ],
      "metadata": {
        "colab": {
          "base_uri": "https://localhost:8080/",
          "height": 269
        },
        "id": "sFgsp6niitTM",
        "outputId": "db4e8f0c-d5fa-471c-a623-b4b175e5ab76"
      },
      "execution_count": 93,
      "outputs": [
        {
          "output_type": "execute_result",
          "data": {
            "text/html": [
              "\n",
              "  <div id=\"df-8ffb3b73-fed1-4a1b-ba8c-6b8784135115\">\n",
              "    <div class=\"colab-df-container\">\n",
              "      <div>\n",
              "<style scoped>\n",
              "    .dataframe tbody tr th:only-of-type {\n",
              "        vertical-align: middle;\n",
              "    }\n",
              "\n",
              "    .dataframe tbody tr th {\n",
              "        vertical-align: top;\n",
              "    }\n",
              "\n",
              "    .dataframe thead th {\n",
              "        text-align: right;\n",
              "    }\n",
              "</style>\n",
              "<table border=\"1\" class=\"dataframe\">\n",
              "  <thead>\n",
              "    <tr style=\"text-align: right;\">\n",
              "      <th></th>\n",
              "      <th>year</th>\n",
              "      <th>Occupied Housing Units</th>\n",
              "      <th>Vacant Housing Units</th>\n",
              "    </tr>\n",
              "  </thead>\n",
              "  <tbody>\n",
              "    <tr>\n",
              "      <th>0</th>\n",
              "      <td>2008</td>\n",
              "      <td>89.11734718648347%</td>\n",
              "      <td>10.88265281351653%</td>\n",
              "    </tr>\n",
              "    <tr>\n",
              "      <th>1</th>\n",
              "      <td>2009</td>\n",
              "      <td>90.92888427555128%</td>\n",
              "      <td>9.07111572444872%</td>\n",
              "    </tr>\n",
              "    <tr>\n",
              "      <th>2</th>\n",
              "      <td>2010</td>\n",
              "      <td>91.85744366291833%</td>\n",
              "      <td>8.142556337081672%</td>\n",
              "    </tr>\n",
              "    <tr>\n",
              "      <th>3</th>\n",
              "      <td>2011</td>\n",
              "      <td>90.6204777701093%</td>\n",
              "      <td>9.379522229890688%</td>\n",
              "    </tr>\n",
              "    <tr>\n",
              "      <th>4</th>\n",
              "      <td>2012</td>\n",
              "      <td>93.32239976950866%</td>\n",
              "      <td>6.677600230491346%</td>\n",
              "    </tr>\n",
              "    <tr>\n",
              "      <th>5</th>\n",
              "      <td>2013</td>\n",
              "      <td>91.19821249582358%</td>\n",
              "      <td>8.801787504176412%</td>\n",
              "    </tr>\n",
              "    <tr>\n",
              "      <th>6</th>\n",
              "      <td>2014</td>\n",
              "      <td>94.26988942963611%</td>\n",
              "      <td>5.730110570363885%</td>\n",
              "    </tr>\n",
              "  </tbody>\n",
              "</table>\n",
              "</div>\n",
              "      <button class=\"colab-df-convert\" onclick=\"convertToInteractive('df-8ffb3b73-fed1-4a1b-ba8c-6b8784135115')\"\n",
              "              title=\"Convert this dataframe to an interactive table.\"\n",
              "              style=\"display:none;\">\n",
              "        \n",
              "  <svg xmlns=\"http://www.w3.org/2000/svg\" height=\"24px\"viewBox=\"0 0 24 24\"\n",
              "       width=\"24px\">\n",
              "    <path d=\"M0 0h24v24H0V0z\" fill=\"none\"/>\n",
              "    <path d=\"M18.56 5.44l.94 2.06.94-2.06 2.06-.94-2.06-.94-.94-2.06-.94 2.06-2.06.94zm-11 1L8.5 8.5l.94-2.06 2.06-.94-2.06-.94L8.5 2.5l-.94 2.06-2.06.94zm10 10l.94 2.06.94-2.06 2.06-.94-2.06-.94-.94-2.06-.94 2.06-2.06.94z\"/><path d=\"M17.41 7.96l-1.37-1.37c-.4-.4-.92-.59-1.43-.59-.52 0-1.04.2-1.43.59L10.3 9.45l-7.72 7.72c-.78.78-.78 2.05 0 2.83L4 21.41c.39.39.9.59 1.41.59.51 0 1.02-.2 1.41-.59l7.78-7.78 2.81-2.81c.8-.78.8-2.07 0-2.86zM5.41 20L4 18.59l7.72-7.72 1.47 1.35L5.41 20z\"/>\n",
              "  </svg>\n",
              "      </button>\n",
              "      \n",
              "  <style>\n",
              "    .colab-df-container {\n",
              "      display:flex;\n",
              "      flex-wrap:wrap;\n",
              "      gap: 12px;\n",
              "    }\n",
              "\n",
              "    .colab-df-convert {\n",
              "      background-color: #E8F0FE;\n",
              "      border: none;\n",
              "      border-radius: 50%;\n",
              "      cursor: pointer;\n",
              "      display: none;\n",
              "      fill: #1967D2;\n",
              "      height: 32px;\n",
              "      padding: 0 0 0 0;\n",
              "      width: 32px;\n",
              "    }\n",
              "\n",
              "    .colab-df-convert:hover {\n",
              "      background-color: #E2EBFA;\n",
              "      box-shadow: 0px 1px 2px rgba(60, 64, 67, 0.3), 0px 1px 3px 1px rgba(60, 64, 67, 0.15);\n",
              "      fill: #174EA6;\n",
              "    }\n",
              "\n",
              "    [theme=dark] .colab-df-convert {\n",
              "      background-color: #3B4455;\n",
              "      fill: #D2E3FC;\n",
              "    }\n",
              "\n",
              "    [theme=dark] .colab-df-convert:hover {\n",
              "      background-color: #434B5C;\n",
              "      box-shadow: 0px 1px 3px 1px rgba(0, 0, 0, 0.15);\n",
              "      filter: drop-shadow(0px 1px 2px rgba(0, 0, 0, 0.3));\n",
              "      fill: #FFFFFF;\n",
              "    }\n",
              "  </style>\n",
              "\n",
              "      <script>\n",
              "        const buttonEl =\n",
              "          document.querySelector('#df-8ffb3b73-fed1-4a1b-ba8c-6b8784135115 button.colab-df-convert');\n",
              "        buttonEl.style.display =\n",
              "          google.colab.kernel.accessAllowed ? 'block' : 'none';\n",
              "\n",
              "        async function convertToInteractive(key) {\n",
              "          const element = document.querySelector('#df-8ffb3b73-fed1-4a1b-ba8c-6b8784135115');\n",
              "          const dataTable =\n",
              "            await google.colab.kernel.invokeFunction('convertToInteractive',\n",
              "                                                     [key], {});\n",
              "          if (!dataTable) return;\n",
              "\n",
              "          const docLinkHtml = 'Like what you see? Visit the ' +\n",
              "            '<a target=\"_blank\" href=https://colab.research.google.com/notebooks/data_table.ipynb>data table notebook</a>'\n",
              "            + ' to learn more about interactive tables.';\n",
              "          element.innerHTML = '';\n",
              "          dataTable['output_type'] = 'display_data';\n",
              "          await google.colab.output.renderOutput(dataTable, element);\n",
              "          const docLink = document.createElement('div');\n",
              "          docLink.innerHTML = docLinkHtml;\n",
              "          element.appendChild(docLink);\n",
              "        }\n",
              "      </script>\n",
              "    </div>\n",
              "  </div>\n",
              "  "
            ],
            "text/plain": [
              "   year Occupied Housing Units Vacant Housing Units\n",
              "0  2008     89.11734718648347%   10.88265281351653%\n",
              "1  2009     90.92888427555128%    9.07111572444872%\n",
              "2  2010     91.85744366291833%   8.142556337081672%\n",
              "3  2011      90.6204777701093%   9.379522229890688%\n",
              "4  2012     93.32239976950866%   6.677600230491346%\n",
              "5  2013     91.19821249582358%   8.801787504176412%\n",
              "6  2014     94.26988942963611%   5.730110570363885%"
            ]
          },
          "metadata": {},
          "execution_count": 93
        }
      ]
    },
    {
      "cell_type": "markdown",
      "source": [
        "####  Calculate and print the valued and years in which the highest number of housing units were vacant and occupied. Print the results in the following format:\n",
        "\n",
        "\n",
        "```\n",
        "                          Year    Value\n",
        "Vacant Housing Units      -----   -----\n",
        "Occupied Housing Units    -----   -----\n",
        "```\n",
        "\n"
      ],
      "metadata": {
        "id": "spc4Mzaa3ATD"
      }
    },
    {
      "cell_type": "code",
      "source": [
        "max_vacant = df_house_units['Vacant Housing Units'].max()\n",
        "max_occupied = df_house_units['Occupied Housing Units'].max()\n",
        "max_vacant_year = df_house_units[df_house_units['Vacant Housing Units'] == max_vacant]['year'].values[0]\n",
        "max_occupied_year = df_house_units[df_house_units['Occupied Housing Units'] == max_occupied]['year'].values[0]\n",
        "print(f'{\" \"*30} Year {\" \"*5} Value \\n')\n",
        "print(f'Vacant Housing Units {\" \"*8} {max_vacant_year} {\" \"*5} {max_vacant}')\n",
        "print(f'Occupied Housing Units {\" \"*6} {max_occupied_year} {\" \"*5} {max_occupied}')"
      ],
      "metadata": {
        "colab": {
          "base_uri": "https://localhost:8080/"
        },
        "id": "3ynlDEGn3r1z",
        "outputId": "f0a73330-c2c6-4c3c-b5a8-d3a5967e8c4e"
      },
      "execution_count": 94,
      "outputs": [
        {
          "output_type": "stream",
          "name": "stdout",
          "text": [
            "                               Year       Value \n",
            "\n",
            "Vacant Housing Units          2008       4483\n",
            "Occupied Housing Units        2014       46295\n"
          ]
        }
      ]
    },
    {
      "cell_type": "markdown",
      "source": [
        "#### Calculate the harmonic mean of the total housing units and print it out"
      ],
      "metadata": {
        "id": "_YBs9phl8Go9"
      }
    },
    {
      "cell_type": "code",
      "source": [
        "import statistics\n",
        "total_housing_units = data[data['title_field'] == 'Total Housing Units']['value'].tolist()\n",
        "h_mean = statistics.harmonic_mean(total_housing_units)\n",
        "print(f\"The harmonic mean of the total housing units is: {h_mean}\")"
      ],
      "metadata": {
        "colab": {
          "base_uri": "https://localhost:8080/"
        },
        "id": "TuUeEdZMvW90",
        "outputId": "2a98b271-dc3c-41ea-e667-ffe46bad893d"
      },
      "execution_count": 95,
      "outputs": [
        {
          "output_type": "stream",
          "name": "stdout",
          "text": [
            "The harmonic mean of the total housing units is: 44398.28543969185\n"
          ]
        }
      ]
    }
  ],
  "metadata": {
    "colab": {
      "collapsed_sections": [],
      "name": "INFO5731_Assignment_One_Vishnu_Boddeboina.ipynb",
      "provenance": []
    },
    "kernelspec": {
      "display_name": "Python 3",
      "language": "python",
      "name": "python3"
    },
    "language_info": {
      "codemirror_mode": {
        "name": "ipython",
        "version": 3
      },
      "file_extension": ".py",
      "mimetype": "text/x-python",
      "name": "python",
      "nbconvert_exporter": "python",
      "pygments_lexer": "ipython3",
      "version": "3.8.5"
    }
  },
  "nbformat": 4,
  "nbformat_minor": 0
}