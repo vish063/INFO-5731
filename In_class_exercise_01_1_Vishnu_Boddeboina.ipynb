{
  "cells": [
    {
      "cell_type": "markdown",
      "metadata": {
        "id": "view-in-github"
      },
      "source": [
        "<a href=\"https://colab.research.google.com/github/unt-iialab/INFO5731_Spring2020/blob/master/In_class_exercise/In_class_exercise_01.ipynb\" target=\"_parent\"><img src=\"https://colab.research.google.com/assets/colab-badge.svg\" alt=\"Open In Colab\"/></a>"
      ]
    },
    {
      "cell_type": "markdown",
      "metadata": {
        "id": "DymRJbxDBCnf"
      },
      "source": [
        "# **The first In-class-exercise (01/25/2022, 40 points in total)**"
      ]
    },
    {
      "cell_type": "markdown",
      "metadata": {
        "id": "03jb4GZsBkBS"
      },
      "source": [
        "(1) Write a Python program to calculate the length of a string. (4 points)"
      ]
    },
    {
      "cell_type": "code",
      "execution_count": 2,
      "metadata": {
        "colab": {
          "base_uri": "https://localhost:8080/"
        },
        "id": "YaGLbSHHB8Ej",
        "outputId": "50b66441-6d09-4ee6-dab5-9848e0213203"
      },
      "outputs": [
        {
          "output_type": "stream",
          "name": "stdout",
          "text": [
            "Length of the string \"Hello World!\": 12\n",
            "Length of the string \"Hello World v2!\": 15\n"
          ]
        }
      ],
      "source": [
        "# write your answer here\n",
        "# Using len() method\n",
        "def get_len_string(str):\n",
        "  return len(str)\n",
        "print(f'Length of the string \"Hello World!\": {get_len_string(\"Hello World!\")}')\n",
        "\n",
        "# Version 2: Caluculate using for loop\n",
        "def get_len_string_v2(stng):\n",
        "  length = 0\n",
        "  for i in stng:\n",
        "    length +=1\n",
        "  return length\n",
        "\n",
        "print(f'Length of the string \"Hello World v2!\": {get_len_string(\"Hello World v2!\")}')\n",
        "\n"
      ]
    },
    {
      "cell_type": "markdown",
      "metadata": {
        "id": "jJDe71iLB616"
      },
      "source": [
        "(2) Write a Python program to count the number of characters in a string. (4 points)\n",
        "\n",
        "Sample String : 'google.com‘, \n",
        "\n",
        "Expected Result : {'o': 3, 'g': 2, '.': 1, 'e': 1, 'l': 1, 'm': 1, 'c': 1}"
      ]
    },
    {
      "cell_type": "code",
      "execution_count": 2,
      "metadata": {
        "colab": {
          "base_uri": "https://localhost:8080/"
        },
        "id": "MtKskTzbCLaU",
        "outputId": "3fee97af-620c-4393-a813-6a96f299e3b1"
      },
      "outputs": [
        {
          "output_type": "execute_result",
          "data": {
            "text/plain": [
              "{'.': 1, 'c': 1, 'e': 1, 'g': 2, 'l': 1, 'm': 1, 'o': 3}"
            ]
          },
          "metadata": {},
          "execution_count": 2
        }
      ],
      "source": [
        "# write your answer here\n",
        "def count_num_char(sample_string):\n",
        "  char_count = {}\n",
        "  for ch in sample_string:\n",
        "    if ch not in char_count:\n",
        "      char_count[ch] = 1\n",
        "    else:\n",
        "      char_count[ch] += 1\n",
        "  return  char_count\n",
        "\n",
        "count_num_char('google.com')\n"
      ]
    },
    {
      "cell_type": "markdown",
      "metadata": {
        "id": "55W9AMdXCSpV"
      },
      "source": [
        "(3) Write a Python program to sum all the items in a list. (4 points)"
      ]
    },
    {
      "cell_type": "code",
      "execution_count": 9,
      "metadata": {
        "colab": {
          "base_uri": "https://localhost:8080/"
        },
        "id": "I57NXsauCec2",
        "outputId": "4d33d67c-dd1b-4380-8d27-371559395b18"
      },
      "outputs": [
        {
          "output_type": "execute_result",
          "data": {
            "text/plain": [
              "210"
            ]
          },
          "metadata": {},
          "execution_count": 9
        }
      ],
      "source": [
        "# write your answer here\n",
        "def get_sum_of_item(items):\n",
        "  sum_all_items = 0\n",
        "  for item in items:\n",
        "    sum_all_items = sum_all_items + item\n",
        "  return sum_all_items\n",
        "get_sum_of_item([2,6,24,78,100])"
      ]
    },
    {
      "cell_type": "code",
      "source": [
        "# Version 2 \n",
        "def get_sum_of_item_v2(items):\n",
        "  return sum(items)\n",
        "get_sum_of_item_v2([2,6,24,78,2])"
      ],
      "metadata": {
        "colab": {
          "base_uri": "https://localhost:8080/"
        },
        "id": "gRLkvu93o-e8",
        "outputId": "b4216992-9f2f-491d-babf-fa6faeb0c491"
      },
      "execution_count": 8,
      "outputs": [
        {
          "output_type": "execute_result",
          "data": {
            "text/plain": [
              "112"
            ]
          },
          "metadata": {},
          "execution_count": 8
        }
      ]
    },
    {
      "cell_type": "markdown",
      "metadata": {
        "id": "4ulBZ6yhCi9F"
      },
      "source": [
        "(4) Write a Python program to get a string from a given string where all occurrences of its first char have been changed to '\\$', except the first char itself. (4 points)\n",
        "\n",
        "Sample String : 'restart‘, \n",
        "\n",
        "Expected Result : 'resta\\$t'"
      ]
    },
    {
      "cell_type": "code",
      "execution_count": 3,
      "metadata": {
        "colab": {
          "base_uri": "https://localhost:8080/",
          "height": 35
        },
        "id": "Fj0XhwbBCw2o",
        "outputId": "1b8a1743-0a6d-4daf-88fe-1f5aef332822"
      },
      "outputs": [
        {
          "output_type": "execute_result",
          "data": {
            "application/vnd.google.colaboratory.intrinsic+json": {
              "type": "string"
            },
            "text/plain": [
              "'resta$$'"
            ]
          },
          "metadata": {},
          "execution_count": 3
        }
      ],
      "source": [
        "# write your answer here\n",
        "def mask_char(strng, mask):\n",
        "  uniq_chars = []\n",
        "  total_chars = list(strng)\n",
        "  for indx, ch in enumerate(total_chars):\n",
        "    if ch in uniq_chars:\n",
        "      total_chars[indx] = mask\n",
        "    else:\n",
        "      uniq_chars.append(ch)\n",
        "  return ''.join(total_chars)\n",
        "\n",
        "mask_char('restart', '$')\n"
      ]
    },
    {
      "cell_type": "markdown",
      "metadata": {
        "id": "_bIP7s1MCzue"
      },
      "source": [
        "(5) Write a program with python which could accept two parameter a and b to calculate and output the result of S, where \n",
        "\n",
        "$\\ S=3.14*(1+a/b)^3$ (4 points)\n",
        "\n"
      ]
    },
    {
      "cell_type": "code",
      "execution_count": 5,
      "metadata": {
        "colab": {
          "base_uri": "https://localhost:8080/"
        },
        "id": "w79QilHXD3Mg",
        "outputId": "574827d2-24ca-40b3-a3fb-19d5e816ab0c"
      },
      "outputs": [
        {
          "output_type": "stream",
          "name": "stdout",
          "text": [
            "S value when a=4, b=2 is : 84.78\n"
          ]
        }
      ],
      "source": [
        "# write your answer here\n",
        "def get_s(a,b):\n",
        "  s = 3.14 * (1 + a/b)**3\n",
        "  return s\n",
        "\n",
        "print(f'S value when a=4, b=2 is : {get_s(4, 2)}')"
      ]
    },
    {
      "cell_type": "markdown",
      "metadata": {
        "id": "xCa2bK9aD4Q3"
      },
      "source": [
        "(6) Write a Python program to concatenate following dictionaries to create a new one. (4 points)\n",
        "\n",
        "Sample Dictionary : dic1={1:10, 2:20}, dic2={3:30, 4:40}, dic3={5:50,6:60}, \n",
        "\n",
        "Expected Result : {1: 10, 2: 20, 3: 30, 4: 40, 5: 50, 6: 60}\n"
      ]
    },
    {
      "cell_type": "code",
      "execution_count": 12,
      "metadata": {
        "colab": {
          "base_uri": "https://localhost:8080/"
        },
        "id": "_z4aLqAbEET1",
        "outputId": "8c4e0097-cc0d-4256-898e-7a7d5c0757af"
      },
      "outputs": [
        {
          "output_type": "stream",
          "name": "stdout",
          "text": [
            "Merged dictionary using update(): {1: 10, 2: 20, 3: 30, 4: 40, 5: 50, 6: 60}\n",
            "Merged dictionary using **kwargs: {1: 10, 2: 20, 3: 30, 4: 40, 5: 50, 6: 60}\n"
          ]
        }
      ],
      "source": [
        "# write your answer here\n",
        "dic1={1:10, 2:20}\n",
        "dic2={3:30, 4:40}\n",
        "dic3={5:50,6:60}\n",
        "# Using update\n",
        "def concat_dict(d1,d2,d3):\n",
        "  d4 = {}\n",
        "  d4.update(d1)\n",
        "  d4.update(d2)\n",
        "  d4.update(d3)\n",
        "  return d4\n",
        "print(f'Merged dictionary using update(): {concat_dict(dic1, dic2, dic3)}')\n",
        "# using **\n",
        "def concat_dict_v2(d1,d2,d3):\n",
        "  return { **d1, **d2, **d3}\n",
        "print(f'Merged dictionary using **kwargs: {concat_dict_v2(dic1, dic2, dic3)}')"
      ]
    },
    {
      "cell_type": "markdown",
      "metadata": {
        "id": "0v48Vqa7FrQh"
      },
      "source": [
        "(7) Write a Python program to check whether an element exists within a tuple. (4 points)"
      ]
    },
    {
      "cell_type": "code",
      "execution_count": 15,
      "metadata": {
        "colab": {
          "base_uri": "https://localhost:8080/"
        },
        "id": "7WEmgq-DF2P1",
        "outputId": "94200321-b3af-45c7-e336-62fec9e38c45"
      },
      "outputs": [
        {
          "output_type": "stream",
          "name": "stdout",
          "text": [
            "is 10 exists in (10,20,40)?: True\n",
            "is 50 exists in (10,20,40)?: False\n",
            "is \"h\" exists in (\"h\",\"e\",\"l\", \"l\", \"o\")?: True\n",
            "is \"Y\" exists in (\"h\",\"e\",\"l\", \"l\", \"o\")?: False\n"
          ]
        }
      ],
      "source": [
        "# write your answer here\n",
        "def is_elm_exists(tup, elm):\n",
        "  return elm in tup\n",
        "print(f'is 10 exists in (10,20,40)?: {is_elm_exists((10,20,40), 10)}')\n",
        "print(f'is 50 exists in (10,20,40)?: {is_elm_exists((10,20,40), 50)}')\n",
        "print(f'is \"h\" exists in (\"h\",\"e\",\"l\", \"l\", \"o\")?: {is_elm_exists((\"h\",\"e\",\"l\", \"l\", \"o\"), \"h\")}')\n",
        "print(f'is \"Y\" exists in (\"h\",\"e\",\"l\", \"l\", \"o\")?: {is_elm_exists((\"h\",\"e\",\"l\", \"l\", \"o\"), \"Y\")}')"
      ]
    },
    {
      "cell_type": "markdown",
      "metadata": {
        "id": "vD5PYLMuGga_"
      },
      "source": [
        "(8) Write a Python program to find maximum and the minimum value in a set. (4 points)"
      ]
    },
    {
      "cell_type": "code",
      "execution_count": 16,
      "metadata": {
        "colab": {
          "base_uri": "https://localhost:8080/"
        },
        "id": "t0D5kdJUGjjw",
        "outputId": "1fbb3162-1218-4114-99d1-a33d39535522"
      },
      "outputs": [
        {
          "output_type": "stream",
          "name": "stdout",
          "text": [
            "Min and Max values of set {200, 10, 20, -100, -1} are: -100, 200\n"
          ]
        }
      ],
      "source": [
        "# write your answer here\n",
        "def get_min_max(s):\n",
        "  min_val = min(s)\n",
        "  max_val = max(s)\n",
        "  print(f'Min and Max values of set {s} are: {min_val}, {max_val}')\n",
        "get_min_max({10,20,200,-1,-100})"
      ]
    },
    {
      "cell_type": "markdown",
      "metadata": {
        "id": "uHkd-y5VhVWC"
      },
      "source": [
        "(9) Write a Python program to randomly divide the students in this class into six groups for term projects, each group should have at least 4 students but no more than 6 students (including 6). Here is the students list: (4 points)\n",
        "\n",
        "studnet_list = ['ja0964','sa1198','sb1357','vb0218','sc1229','kg0569','kg0470','sg1297','bg0320','fh0141','jl1252','sk1386',\n",
        "           'ak0956','sk1390','sk1458','sk1313','ak0934','vm0377','nm0618','sm1640','sm1907','gn0108','pr0353','dr0609','ms1500','aos0040','ds0814', 'av0659','nv0234','hy0232']"
      ]
    },
    {
      "cell_type": "code",
      "execution_count": 113,
      "metadata": {
        "colab": {
          "base_uri": "https://localhost:8080/"
        },
        "id": "3iGbmcOBhTwy",
        "outputId": "4b6417e8-69a0-4d77-fb3b-bae598d6d758"
      },
      "outputs": [
        {
          "output_type": "stream",
          "name": "stdout",
          "text": [
            "Group sizes are: [5, 6, 6, 4, 4, 5]\n",
            "Final Groups are: [['sc1229', 'dr0609', 'av0659', 'pr0353', 'nv0234'], ['kg0569', 'aos0040', 'gn0108', 'nm0618', 'bg0320', 'sm1907'], ['jl1252', 'sk1390', 'sk1458', 'sb1357', 'sg1297', 'ak0956'], ['ms1500', 'ds0814', 'sk1313', 'vb0218'], ['sa1198', 'hy0232', 'sm1640', 'vm0377'], ['fh0141', 'sk1386', 'kg0470', 'ak0934', 'ja0964']]\n"
          ]
        }
      ],
      "source": [
        "import random\n",
        "import math\n",
        "# write your answer here\n",
        "def generate_random_integers(total_sum, num_groups):\n",
        "  low =4\n",
        "  up = 6\n",
        "  groups = [low] * num_groups\n",
        "  diff = total_sum - low * num_groups\n",
        "  while diff > 0:\n",
        "    a = random.randint(0, num_groups - 1)\n",
        "    if groups[a] >= up:\n",
        "      continue\n",
        "    groups[a] += 1\n",
        "    diff -= 1\n",
        "  return groups\n",
        "\n",
        "studnet_list = ['ja0964','sa1198','sb1357','vb0218','sc1229','kg0569','kg0470','sg1297','bg0320','fh0141','jl1252','sk1386', 'ak0956','sk1390','sk1458','sk1313','ak0934','vm0377','nm0618','sm1640','sm1907','gn0108','pr0353','dr0609','ms1500','aos0040','ds0814', 'av0659','nv0234','hy0232']\n",
        "random.shuffle(studnet_list)\n",
        "group_sizes = generate_random_integers(len(studnet_list), 6)\n",
        "print(f'Group sizes are: {group_sizes}')\n",
        "final_groups = []\n",
        "init=0\n",
        "for s in group_sizes:\n",
        "  s = int(s)\n",
        "  final_groups.append(studnet_list[init: (init + s )])\n",
        "  init = init + s\n",
        "\n",
        "print(f'Final Groups are: {final_groups}')\n"
      ]
    },
    {
      "cell_type": "markdown",
      "metadata": {
        "id": "k-9yyS4Fji-y"
      },
      "source": [
        "(10) Write a Python program to find the duplicate elements in a given array of integers. Return -1 If there are no such elements. (4 points)"
      ]
    },
    {
      "cell_type": "code",
      "execution_count": 19,
      "metadata": {
        "colab": {
          "base_uri": "https://localhost:8080/"
        },
        "id": "tcKCwBL8ji-y",
        "outputId": "1609dc85-6e79-40ee-eefa-4bfa001820c4"
      },
      "outputs": [
        {
          "output_type": "stream",
          "name": "stdout",
          "text": [
            "Duplicates in the list [10,20,30,10,30,50] are: [10, 30]\n",
            "Duplicates in the list [10,20,30] are: -1\n"
          ]
        }
      ],
      "source": [
        "# write your answer here\n",
        "def get_duplicates(items):\n",
        "  uniq_elms = set()\n",
        "  dups = []\n",
        "  for i in items:\n",
        "    if i in uniq_elms:\n",
        "      dups.append(i)\n",
        "    else:\n",
        "      uniq_elms.add(i)\n",
        "  return dups if len(dups) > 0 else -1\n",
        "\n",
        "print(f'Duplicates in the list [10,20,30,10,30,50] are: {get_duplicates([10,20,30,10,30,50])}')\n",
        "print(f'Duplicates in the list [10,20,30] are: {get_duplicates([10,20,30])}')\n"
      ]
    },
    {
      "cell_type": "markdown",
      "metadata": {
        "id": "Ku3a8M7iji-z"
      },
      "source": [
        "(11) Write a Python program to select all the Sundays of a specified year. (4 extra points)"
      ]
    },
    {
      "cell_type": "code",
      "execution_count": 101,
      "metadata": {
        "colab": {
          "base_uri": "https://localhost:8080/"
        },
        "id": "wDF2YFGDji-0",
        "outputId": "e4d0f398-973f-41a8-f2bc-9a521b6a9f38"
      },
      "outputs": [
        {
          "output_type": "execute_result",
          "data": {
            "text/plain": [
              "['2022-01-02',\n",
              " '2022-01-09',\n",
              " '2022-01-16',\n",
              " '2022-01-23',\n",
              " '2022-01-30',\n",
              " '2022-02-06',\n",
              " '2022-02-13',\n",
              " '2022-02-20',\n",
              " '2022-02-27',\n",
              " '2022-03-06',\n",
              " '2022-03-13',\n",
              " '2022-03-20',\n",
              " '2022-03-27',\n",
              " '2022-04-03',\n",
              " '2022-04-10',\n",
              " '2022-04-17',\n",
              " '2022-04-24',\n",
              " '2022-05-01',\n",
              " '2022-05-08',\n",
              " '2022-05-15',\n",
              " '2022-05-22',\n",
              " '2022-05-29',\n",
              " '2022-06-05',\n",
              " '2022-06-12',\n",
              " '2022-06-19',\n",
              " '2022-06-26',\n",
              " '2022-07-03',\n",
              " '2022-07-10',\n",
              " '2022-07-17',\n",
              " '2022-07-24',\n",
              " '2022-07-31',\n",
              " '2022-08-07',\n",
              " '2022-08-14',\n",
              " '2022-08-21',\n",
              " '2022-08-28',\n",
              " '2022-09-04',\n",
              " '2022-09-11',\n",
              " '2022-09-18',\n",
              " '2022-09-25',\n",
              " '2022-10-02',\n",
              " '2022-10-09',\n",
              " '2022-10-16',\n",
              " '2022-10-23',\n",
              " '2022-10-30',\n",
              " '2022-11-06',\n",
              " '2022-11-13',\n",
              " '2022-11-20',\n",
              " '2022-11-27',\n",
              " '2022-12-04',\n",
              " '2022-12-11',\n",
              " '2022-12-18',\n",
              " '2022-12-25']"
            ]
          },
          "metadata": {},
          "execution_count": 101
        }
      ],
      "source": [
        "# write your answer here\n",
        "from datetime import date, timedelta\n",
        "\n",
        "def get_sundays(year):\n",
        "   d = date(year, 1, 1)\n",
        "   days = []\n",
        "   d = d + timedelta(days = 6 - d.weekday())\n",
        "   while d.year == year:\n",
        "      days.append(str(d))\n",
        "      d = d + timedelta(days = 7)\n",
        "   return days\n",
        "\n",
        "get_sundays(2022)"
      ]
    }
  ],
  "metadata": {
    "colab": {
      "collapsed_sections": [],
      "name": "In_class_exercise_01-1_Vishnu_Boddeboina.ipynb",
      "provenance": []
    },
    "kernelspec": {
      "display_name": "Python 3",
      "language": "python",
      "name": "python3"
    },
    "language_info": {
      "codemirror_mode": {
        "name": "ipython",
        "version": 3
      },
      "file_extension": ".py",
      "mimetype": "text/x-python",
      "name": "python",
      "nbconvert_exporter": "python",
      "pygments_lexer": "ipython3",
      "version": "3.8.5"
    }
  },
  "nbformat": 4,
  "nbformat_minor": 0
}