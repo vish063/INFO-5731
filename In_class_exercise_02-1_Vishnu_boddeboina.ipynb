{
  "nbformat": 4,
  "nbformat_minor": 0,
  "metadata": {
    "kernelspec": {
      "display_name": "Python 3",
      "language": "python",
      "name": "python3"
    },
    "language_info": {
      "codemirror_mode": {
        "name": "ipython",
        "version": 3
      },
      "file_extension": ".py",
      "mimetype": "text/x-python",
      "name": "python",
      "nbconvert_exporter": "python",
      "pygments_lexer": "ipython3",
      "version": "3.8.5"
    },
    "colab": {
      "name": "In_class_exercise_02 (2) (1).ipynb",
      "provenance": [],
      "collapsed_sections": []
    }
  },
  "cells": [
    {
      "cell_type": "markdown",
      "metadata": {
        "id": "QGUM5MBX2RPX"
      },
      "source": [
        "## The third In-class-exercise (02/08/2022, 40 points in total)"
      ]
    },
    {
      "cell_type": "markdown",
      "metadata": {
        "id": "rHGUSwQ82RPZ"
      },
      "source": [
        "The purpose of this exercise is to understand users' information needs, then collect data from different sources for analysis."
      ]
    },
    {
      "cell_type": "markdown",
      "metadata": {
        "id": "vottP6Ko2RPa"
      },
      "source": [
        "Question 1 (10 points): Describe an interesting research question (or practical question) you have in mind, what kind of data should be collected to answer the question(s)? How many data needed for the analysis? The detail steps for collecting and save the data. "
      ]
    },
    {
      "cell_type": "code",
      "metadata": {
        "id": "gp1VAQTM2RPa",
        "colab": {
          "base_uri": "https://localhost:8080/",
          "height": 105
        },
        "outputId": "1dfe8336-f452-416f-c921-d69a1d2c6217"
      },
      "source": [
        "# Your answer here (no code for this question, write down your answer as detail as possible for the above questions):\n",
        "\n",
        "'''\n",
        "Please write you answer here:\n",
        "\n",
        "I would like to collect the reviews of the iphone 13 phone.\n",
        "Iphone 13 is the latest  phone which is released in the market. As it is the latest phone in the market I would like to collect the reviews of iphone 13 and analyse the reviews of the customers.\n",
        "\n",
        "Research Question: Extract the reviews of iphone 13 phone and analyse the reviews.\n",
        "Reviews can be collected from multuple site like Apple website,BestBuy,Amazon,flipkart etc. I would like to collect reviews from the Apple website as many of the customer \n",
        "purchase the iphones from the Apple website.\n",
        "\n",
        "Kind of Data: We should collect the User name,date and time post,review,review message,rating.To analyse the reviews properly we should collect\n",
        "2000 records to conclude the insights.\n",
        "\n",
        "Detailed steps for collect and saving the data:\n",
        "1. I will use beautiful soup library to extract the reviews from the Apple website.\n",
        "2. I will extract the reviews using classname from the page source and appended to the empty list created in the program.\n",
        "3. To extract sample 2000 reviews where I need to iterate it for min of 100 times and each page would have the reviews of 20 and generated the url dynamically.\n",
        "4. Then I created a dataframe and converted dataframe into csv.\n",
        "\n",
        "\n",
        "\n",
        "\n",
        "'''"
      ],
      "execution_count": 6,
      "outputs": [
        {
          "output_type": "execute_result",
          "data": {
            "application/vnd.google.colaboratory.intrinsic+json": {
              "type": "string"
            },
            "text/plain": [
              "\"\\nPlease write you answer here:\\n\\nI\\xa0want\\xa0to\\xa0understand\\xa0how\\xa0people\\xa0are\\xa0using\\xa0oximeters\\xa0and\\xa0the\\xa0problems\\xa0they\\xa0are\\xa0facing\\xa0while\\xa0using\\xa0them. It\\xa0is\\xa0clear\\xa0that\\xa0many\\xa0people\\xa0started\\xa0using\\xa0it\\xa0in\\xa0the\\xa0COVID\\xa0era\\nI'd like to learn about the precise issues that existing users are having, as well as the features that they value.\\n\\nData-\\nI would need reviews for one of the exisiting product. I am interested in review title, user rating, review text and time of the review \\n\\nHow many data needed- \\nIn my understanding 1000 samples from the reviews are good enough to gain strong knowledge on users requirements for the product.\\n\\nData collection - \\n\\nData can be collected using web scraping from any of the e-commerce website. However, I would like to use reviews for the item - 'Zacurate Pro Series 500DL Fingertip Pulse Oximeter'  from Amazon website.\\nSteps to collect data - \\n  1. Use Web scraping techinque, extract data from the web document using can be done using python language and beautiful soup package.\\n  2. Link for the reviews - https://www.amazon.com/Zacurate-Fingertip-Oximeter-Saturation-Batteries/product-reviews/B07PQ8WTC4/ref=cm_cr_getr_d_paging_btm_next_3?ie=UTF8&reviewerType=all_reviews&pageNumber=3. \\n  3. This product has 175591 reviews and can extract as many reviews as needed by looping through the pages. However, I would need 1000 reviews to get required knowledge information from the revirews.\\n  4. beautiful soup helps to parse DOM and get the data like : review title, rating, review text, time of the review\\n  5. At the end, I will save the data into .csv or .xlsx file for data analysis \\n\\n\\n\""
            ]
          },
          "metadata": {},
          "execution_count": 6
        }
      ]
    },
    {
      "cell_type": "markdown",
      "metadata": {
        "id": "YbRpdyQ92RPb"
      },
      "source": [
        "Question 2 (10 points): Write python code to collect 1000 data samples you discussed above."
      ]
    },
    {
      "cell_type": "code",
      "metadata": {
        "colab": {
          "base_uri": "https://localhost:8080/"
        },
        "id": "ocbuTDqj2RPc",
        "outputId": "1f69c17f-6548-440f-b467-e481d4ad78f1"
      },
      "source": [
        "# You code here (Please add comments in the code):\n",
        "\n",
        "# import libraries\n",
        "from bs4 import BeautifulSoup\n",
        "import requests\n",
        "import urllib.request\n",
        "import re\n",
        "import pandas as pd\n",
        "\n",
        "\n",
        "# headers to get the content from the web page\n",
        "headers = {\n",
        "    'User-Agent': 'Mozilla/5.0 (X11; Ubuntu; Linux x86_64; rv:52.0) Gecko/20100101 Firefox/52.0',\n",
        "    'Accept-Language': 'en-US, en;q=0.5'\n",
        "    }\n",
        "\n",
        "# r_url = 'https://www.amazon.com/Zacurate-Fingertip-Oximeter-Saturation-Batteries/product-reviews/B07PQ8WTC4/ref=cm_cr_arp_d_paging_btm_next_3?ie=UTF8&reviewerType=all_reviews&pageNumber=3'\n",
        "# page = requests.get(r_url, headers=headers)\n",
        "r_titles = []\n",
        "r_ratings = []\n",
        "r_text=[]\n",
        "r_dates=[]\n",
        "for pg_num in range(1,150):\n",
        "  r_url = f'https://www.amazon.com/Zacurate-Fingertip-Oximeter-Saturation-Batteries/product-reviews/B07PQ8WTC4/ref=cm_cr_arp_d_paging_btm_next_{pg_num}?ie=UTF8&reviewerType=all_reviews&pageNumber={pg_num}'\n",
        "  # Launch the page\n",
        "  page = requests.get(r_url, headers=headers)\n",
        "  # read page content\n",
        "  soup = BeautifulSoup(page.content,'html.parser')\n",
        "  review_titles = soup.find_all('a',class_='review-title-content')\n",
        "  for i in range(len(review_titles)):\n",
        "    r_titles.append(review_titles[i].get_text())\n",
        "\n",
        "  r_titles[:] = [titles.lstrip('\\n') for titles in r_titles]\n",
        "  rating_dom = soup.find_all('i',class_='review-rating') # Extarcting the review rating data usinf class review-rating\n",
        "  \n",
        "  for i in range(2,len(rating_dom)):\n",
        "    r_ratings.append(rating_dom[i].get_text())      #Appending it to the ratings list.\n",
        "  # print(\"*****ratings*****\",len(ratings))\n",
        "  review_text_dom= soup.find_all('span',class_='review-text-content') # Extracting the review-text data using the class review-text-content\n",
        "  \n",
        "  for i in range(0,len(review_text_dom)):\n",
        "    r_text.append(review_text_dom[i].get_text())  # Appending it to the review whole text list\n",
        "  r_text[:] = [reviews.lstrip('\\n') for reviews in r_text]  \n",
        "  r_text[:] = [reviews.rstrip('\\n') for reviews in r_text]\n",
        "  # print(review_whole_text)\n",
        "  # print(\"****review_whole_text******\",len(review_whole_text))\n",
        "  review_date_dom = soup.find_all('span',class_='review-date')\n",
        "  \n",
        "  for i in range(2,len(review_date_dom)):\n",
        "    r_dates.append(review_date_dom[i].get_text())\n",
        "  \n",
        "df_reviews = pd.DataFrame({\n",
        "    'Title' : r_titles,\n",
        "    'Rating': r_ratings,\n",
        "    'Review': r_text,\n",
        "    'Date': r_dates\n",
        "})\n",
        "print(f'Shape of the data frame: {df_reviews.shape}')\n",
        "df_reviews.head\n"
      ],
      "execution_count": 5,
      "outputs": [
        {
          "output_type": "stream",
          "name": "stdout",
          "text": [
            "Shape of the data frame: (1490, 4)\n"
          ]
        },
        {
          "output_type": "execute_result",
          "data": {
            "text/plain": [
              "<bound method NDFrame.head of                                                   Title  ...                                               Date\n",
              "0     Zacurate Oximeter vs. MiBest: Which is best in...  ...       Reviewed in the United States on May 7, 2020\n",
              "1                                 Slow and unreliable\\n  ...    Reviewed in the United States on March 26, 2020\n",
              "2     Very inaccurate reading - led to uncessary eme...  ...  Reviewed in the United States on October 10, 2020\n",
              "3                                     Waste of money!\\n  ...    Reviewed in the United States on August 8, 2020\n",
              "4                              Pulse & Oxygen display\\n  ...    Reviewed in the United States on August 6, 2019\n",
              "...                                                 ...  ...                                                ...\n",
              "1485  This unit is well made and VERY easy to use an...  ...     Reviewed in the United States on July 28, 2020\n",
              "1486                       Works well and easy to use\\n  ...  Reviewed in the United States on November 20, ...\n",
              "1487                                     Doesn’t work\\n  ...   Reviewed in the United States on January 5, 2022\n",
              "1488                            This is our best one!\\n  ...  Reviewed in the United States on November 29, ...\n",
              "1489                                     Easy to use.\\n  ...  Reviewed in the United States on September 1, ...\n",
              "\n",
              "[1490 rows x 4 columns]>"
            ]
          },
          "metadata": {},
          "execution_count": 5
        }
      ]
    },
    {
      "cell_type": "markdown",
      "metadata": {
        "id": "TTBeiZHv2RPd"
      },
      "source": [
        "Question 3 (10 points): Write python code to collect 1000 articles from Google Scholar (https://scholar.google.com/), Microsoft Academic (https://academic.microsoft.com/home), or CiteSeerX (https://citeseerx.ist.psu.edu/index), or Semantic Scholar (https://www.semanticscholar.org/), or ACM Digital Libraries (https://dl.acm.org/) with the keyword \"information retrieval\". The articles should be published in the last 10 years (2012-2022).\n",
        "\n",
        "The following information of the article needs to be collected:\n",
        "\n",
        "(1) Title\n",
        "\n",
        "(2) Venue/journal/conference being published\n",
        "\n",
        "(3) Year\n",
        "\n",
        "(4) Authors\n",
        "\n",
        "(5) Abstract"
      ]
    },
    {
      "cell_type": "code",
      "source": [
        "# You code here (Please add comments in the code):\n",
        "from bs4 import BeautifulSoup\n",
        "import requests\n",
        "import urllib.request\n",
        "import re\n",
        "import pandas as pd\n",
        "df_articles = pd.DataFrame()\n",
        "\n",
        "# Create header object\n",
        "headers = ({'User-Agent':\n",
        "           'Mozilla/5.0 (Macintosh; Intel Mac OS X 10_15_7) AppleWebKit/537.36 (KHTML, like Gecko) Chrome/92.0.4515.159 Safari/537.36',\n",
        "                           'Accept-Language': 'en-US, en;q=0.5'})\n",
        "\n",
        "for pg_num in range(1,10):\n",
        "  url = f'https://scholar.google.com/scholar?start={str(pg_num)}&q=information+retrieval&hl=en&as_sdt=0,44&as_ylo=2012&as_yhi=2022'\n",
        "  print('URL ', url)\n",
        "  pg = requests.get(url, headers=headers)\n",
        "  soup = BeautifulSoup(pg.content,'html.parser')\n",
        "  for article in soup.select('[data-lid]'):\n",
        "    title = article.select_one('.gs_rt').text\n",
        "    journal = article.select_one('.gs_a').text\n",
        "    publisher= article.select('a')[0].get_text()\n",
        "    pub_info = article.find_all('div',class_='gs_a')[0].get_text()\n",
        "    authors= pub_info.split('-')[0]\n",
        "    abstract= article.find_all('div',class_='gs_rs')[0].get_text()\n",
        "    b_year = re.findall(r'\\d+', pub_info)    #in output a finding year using the regx\n",
        "    info = list(map(int, b_year))\n",
        "    year = str(info)[1:-1]\n",
        "    df_articles = df_articles.append(pd.DataFrame({'Title': title, 'Journal': journal, 'Publisher':publisher, 'Year': year, 'Authors': authors, 'Abstract': abstract}, index=[0]))\n",
        "\n",
        "print(f'Shape of the data frame: {df_articles.shape}')\n",
        "df_articles.head()"
      ],
      "metadata": {
        "colab": {
          "base_uri": "https://localhost:8080/",
          "height": 223
        },
        "id": "_-hS6zX0-Boq",
        "outputId": "c950e6ec-76a6-4dc1-ae0d-b75bc300c723"
      },
      "execution_count": 14,
      "outputs": [
        {
          "output_type": "stream",
          "name": "stdout",
          "text": [
            "URL  https://scholar.google.com/scholar?start=1&q=information+retrieval&hl=en&as_sdt=0,44&as_ylo=2012&as_yhi=2022\n",
            "URL  https://scholar.google.com/scholar?start=2&q=information+retrieval&hl=en&as_sdt=0,44&as_ylo=2012&as_yhi=2022\n",
            "URL  https://scholar.google.com/scholar?start=3&q=information+retrieval&hl=en&as_sdt=0,44&as_ylo=2012&as_yhi=2022\n",
            "URL  https://scholar.google.com/scholar?start=4&q=information+retrieval&hl=en&as_sdt=0,44&as_ylo=2012&as_yhi=2022\n",
            "URL  https://scholar.google.com/scholar?start=5&q=information+retrieval&hl=en&as_sdt=0,44&as_ylo=2012&as_yhi=2022\n",
            "URL  https://scholar.google.com/scholar?start=6&q=information+retrieval&hl=en&as_sdt=0,44&as_ylo=2012&as_yhi=2022\n",
            "URL  https://scholar.google.com/scholar?start=7&q=information+retrieval&hl=en&as_sdt=0,44&as_ylo=2012&as_yhi=2022\n",
            "URL  https://scholar.google.com/scholar?start=8&q=information+retrieval&hl=en&as_sdt=0,44&as_ylo=2012&as_yhi=2022\n",
            "URL  https://scholar.google.com/scholar?start=9&q=information+retrieval&hl=en&as_sdt=0,44&as_ylo=2012&as_yhi=2022\n",
            "Shape of the data frame: (0, 0)\n"
          ]
        },
        {
          "output_type": "execute_result",
          "data": {
            "text/html": [
              "\n",
              "  <div id=\"df-473d0986-aca7-469a-b4b3-f4acaa159819\">\n",
              "    <div class=\"colab-df-container\">\n",
              "      <div>\n",
              "<style scoped>\n",
              "    .dataframe tbody tr th:only-of-type {\n",
              "        vertical-align: middle;\n",
              "    }\n",
              "\n",
              "    .dataframe tbody tr th {\n",
              "        vertical-align: top;\n",
              "    }\n",
              "\n",
              "    .dataframe thead th {\n",
              "        text-align: right;\n",
              "    }\n",
              "</style>\n",
              "<table border=\"1\" class=\"dataframe\">\n",
              "  <thead>\n",
              "    <tr style=\"text-align: right;\">\n",
              "      <th></th>\n",
              "    </tr>\n",
              "  </thead>\n",
              "  <tbody>\n",
              "  </tbody>\n",
              "</table>\n",
              "</div>\n",
              "      <button class=\"colab-df-convert\" onclick=\"convertToInteractive('df-473d0986-aca7-469a-b4b3-f4acaa159819')\"\n",
              "              title=\"Convert this dataframe to an interactive table.\"\n",
              "              style=\"display:none;\">\n",
              "        \n",
              "  <svg xmlns=\"http://www.w3.org/2000/svg\" height=\"24px\"viewBox=\"0 0 24 24\"\n",
              "       width=\"24px\">\n",
              "    <path d=\"M0 0h24v24H0V0z\" fill=\"none\"/>\n",
              "    <path d=\"M18.56 5.44l.94 2.06.94-2.06 2.06-.94-2.06-.94-.94-2.06-.94 2.06-2.06.94zm-11 1L8.5 8.5l.94-2.06 2.06-.94-2.06-.94L8.5 2.5l-.94 2.06-2.06.94zm10 10l.94 2.06.94-2.06 2.06-.94-2.06-.94-.94-2.06-.94 2.06-2.06.94z\"/><path d=\"M17.41 7.96l-1.37-1.37c-.4-.4-.92-.59-1.43-.59-.52 0-1.04.2-1.43.59L10.3 9.45l-7.72 7.72c-.78.78-.78 2.05 0 2.83L4 21.41c.39.39.9.59 1.41.59.51 0 1.02-.2 1.41-.59l7.78-7.78 2.81-2.81c.8-.78.8-2.07 0-2.86zM5.41 20L4 18.59l7.72-7.72 1.47 1.35L5.41 20z\"/>\n",
              "  </svg>\n",
              "      </button>\n",
              "      \n",
              "  <style>\n",
              "    .colab-df-container {\n",
              "      display:flex;\n",
              "      flex-wrap:wrap;\n",
              "      gap: 12px;\n",
              "    }\n",
              "\n",
              "    .colab-df-convert {\n",
              "      background-color: #E8F0FE;\n",
              "      border: none;\n",
              "      border-radius: 50%;\n",
              "      cursor: pointer;\n",
              "      display: none;\n",
              "      fill: #1967D2;\n",
              "      height: 32px;\n",
              "      padding: 0 0 0 0;\n",
              "      width: 32px;\n",
              "    }\n",
              "\n",
              "    .colab-df-convert:hover {\n",
              "      background-color: #E2EBFA;\n",
              "      box-shadow: 0px 1px 2px rgba(60, 64, 67, 0.3), 0px 1px 3px 1px rgba(60, 64, 67, 0.15);\n",
              "      fill: #174EA6;\n",
              "    }\n",
              "\n",
              "    [theme=dark] .colab-df-convert {\n",
              "      background-color: #3B4455;\n",
              "      fill: #D2E3FC;\n",
              "    }\n",
              "\n",
              "    [theme=dark] .colab-df-convert:hover {\n",
              "      background-color: #434B5C;\n",
              "      box-shadow: 0px 1px 3px 1px rgba(0, 0, 0, 0.15);\n",
              "      filter: drop-shadow(0px 1px 2px rgba(0, 0, 0, 0.3));\n",
              "      fill: #FFFFFF;\n",
              "    }\n",
              "  </style>\n",
              "\n",
              "      <script>\n",
              "        const buttonEl =\n",
              "          document.querySelector('#df-473d0986-aca7-469a-b4b3-f4acaa159819 button.colab-df-convert');\n",
              "        buttonEl.style.display =\n",
              "          google.colab.kernel.accessAllowed ? 'block' : 'none';\n",
              "\n",
              "        async function convertToInteractive(key) {\n",
              "          const element = document.querySelector('#df-473d0986-aca7-469a-b4b3-f4acaa159819');\n",
              "          const dataTable =\n",
              "            await google.colab.kernel.invokeFunction('convertToInteractive',\n",
              "                                                     [key], {});\n",
              "          if (!dataTable) return;\n",
              "\n",
              "          const docLinkHtml = 'Like what you see? Visit the ' +\n",
              "            '<a target=\"_blank\" href=https://colab.research.google.com/notebooks/data_table.ipynb>data table notebook</a>'\n",
              "            + ' to learn more about interactive tables.';\n",
              "          element.innerHTML = '';\n",
              "          dataTable['output_type'] = 'display_data';\n",
              "          await google.colab.output.renderOutput(dataTable, element);\n",
              "          const docLink = document.createElement('div');\n",
              "          docLink.innerHTML = docLinkHtml;\n",
              "          element.appendChild(docLink);\n",
              "        }\n",
              "      </script>\n",
              "    </div>\n",
              "  </div>\n",
              "  "
            ],
            "text/plain": [
              "Empty DataFrame\n",
              "Columns: []\n",
              "Index: []"
            ]
          },
          "metadata": {},
          "execution_count": 14
        }
      ]
    },
    {
      "cell_type": "markdown",
      "metadata": {
        "id": "u8zR4eGx2RPf"
      },
      "source": [
        "Question 4 (10 points): Write python code to collect 1000 posts from Twitter, or Facebook, or Instagram. You can either use hashtags, keywords, user_name, user_id, or other information to collect the data. \n",
        "\n",
        "The following information needs to be collected:\n",
        "\n",
        "(1) User_name\n",
        "\n",
        "(2) Posted time\n",
        "\n",
        "(3) Text "
      ]
    },
    {
      "cell_type": "code",
      "metadata": {
        "id": "xbn5ya3M2RPg",
        "colab": {
          "base_uri": "https://localhost:8080/"
        },
        "outputId": "4864dde2-0d71-42b3-9b06-dbe18cdd44c0"
      },
      "source": [
        "# You code here (Please add comments in the code):\n",
        "# You code here (Please add comments in the code):\n",
        "\n",
        "# I have pulled the data from twitter platform\n",
        "# Steps:\n",
        "# sign up for the twitter developer portal and create a project. \n",
        "# use API key and API secret to authenticate my self and communicate with twitter api\n",
        "\n",
        "!pip install tweepy\n",
        "import tweepy\n",
        "\n",
        "# Twitter API keys\n",
        "api_key = \"kn5WGFLWqGEH1ril1TIOudfIP\"\n",
        "api_secret = \"tn12NRKtDXqAfBhHASH2Gpki9f2NEApgc4ox604oCrnAzYw3Je\"\n",
        "\n",
        "# Authentication\n",
        "authentication = tweepy.OAuthHandler(api_key, api_secret)\n",
        "api = tweepy.API(authentication, wait_on_rate_limit=True)\n",
        "\n",
        "# I have used the hash tag to pull the tweets\n",
        "query = \"#influencer -filter:retweets\"\n",
        "\n",
        "# get tweets from the API\n",
        "tweets = tweepy.Cursor(api.search,\n",
        "              q=query,\n",
        "              lang=\"en\",\n",
        "              since=\"2022-01-01\").items(1000)\n",
        "\n",
        "\n",
        "tweets_list = [tweet for tweet in tweets]\n",
        "print(\"Total Tweets fetched are:\", len(tweets_list))\n",
        "\n"
      ],
      "execution_count": 10,
      "outputs": [
        {
          "output_type": "stream",
          "name": "stdout",
          "text": [
            "Requirement already satisfied: tweepy in /usr/local/lib/python3.7/dist-packages (3.10.0)\n",
            "Requirement already satisfied: six>=1.10.0 in /usr/local/lib/python3.7/dist-packages (from tweepy) (1.15.0)\n",
            "Requirement already satisfied: requests[socks]>=2.11.1 in /usr/local/lib/python3.7/dist-packages (from tweepy) (2.23.0)\n",
            "Requirement already satisfied: requests-oauthlib>=0.7.0 in /usr/local/lib/python3.7/dist-packages (from tweepy) (1.3.1)\n",
            "Requirement already satisfied: oauthlib>=3.0.0 in /usr/local/lib/python3.7/dist-packages (from requests-oauthlib>=0.7.0->tweepy) (3.2.0)\n",
            "Requirement already satisfied: idna<3,>=2.5 in /usr/local/lib/python3.7/dist-packages (from requests[socks]>=2.11.1->tweepy) (2.10)\n",
            "Requirement already satisfied: chardet<4,>=3.0.2 in /usr/local/lib/python3.7/dist-packages (from requests[socks]>=2.11.1->tweepy) (3.0.4)\n",
            "Requirement already satisfied: certifi>=2017.4.17 in /usr/local/lib/python3.7/dist-packages (from requests[socks]>=2.11.1->tweepy) (2021.10.8)\n",
            "Requirement already satisfied: urllib3!=1.25.0,!=1.25.1,<1.26,>=1.21.1 in /usr/local/lib/python3.7/dist-packages (from requests[socks]>=2.11.1->tweepy) (1.24.3)\n",
            "Requirement already satisfied: PySocks!=1.5.7,>=1.5.6 in /usr/local/lib/python3.7/dist-packages (from requests[socks]>=2.11.1->tweepy) (1.7.1)\n",
            "Total Tweets fetched are: 1000\n"
          ]
        }
      ]
    },
    {
      "cell_type": "code",
      "source": [
        "# Store tweets in a data frame\n",
        "import pandas as pd\n",
        "df_tweets = pd.DataFrame()\n",
        "\n",
        "for t in tweets_list:\n",
        "    try:\n",
        "        text = api.get_status(id=t.id, tweet_mode='extended').full_text\n",
        "    except:\n",
        "        pass\n",
        "    df_tweets = df_tweets.append(pd.DataFrame({'user_name': t.user.name, 'posted_time': t.created_at, 'text': text}, index=[0]))\n",
        "    # tweets_df = tweets_df.reset_index(drop=True)\n",
        "\n",
        "# show the dataframe\n",
        "print(f'Shape of the data frame: {df_tweets.shape}')\n",
        "df_tweets.head()"
      ],
      "metadata": {
        "colab": {
          "base_uri": "https://localhost:8080/",
          "height": 224
        },
        "id": "WMBPESLMAK9d",
        "outputId": "3bbea248-1d2e-4b42-ccb2-595566e3f239"
      },
      "execution_count": 11,
      "outputs": [
        {
          "output_type": "stream",
          "name": "stdout",
          "text": [
            "Shape of the data frame: (1000, 3)\n"
          ]
        },
        {
          "output_type": "execute_result",
          "data": {
            "text/html": [
              "\n",
              "  <div id=\"df-f5a69b5f-1b2f-4bbc-9131-d291ff551662\">\n",
              "    <div class=\"colab-df-container\">\n",
              "      <div>\n",
              "<style scoped>\n",
              "    .dataframe tbody tr th:only-of-type {\n",
              "        vertical-align: middle;\n",
              "    }\n",
              "\n",
              "    .dataframe tbody tr th {\n",
              "        vertical-align: top;\n",
              "    }\n",
              "\n",
              "    .dataframe thead th {\n",
              "        text-align: right;\n",
              "    }\n",
              "</style>\n",
              "<table border=\"1\" class=\"dataframe\">\n",
              "  <thead>\n",
              "    <tr style=\"text-align: right;\">\n",
              "      <th></th>\n",
              "      <th>user_name</th>\n",
              "      <th>posted_time</th>\n",
              "      <th>text</th>\n",
              "    </tr>\n",
              "  </thead>\n",
              "  <tbody>\n",
              "    <tr>\n",
              "      <th>0</th>\n",
              "      <td>Manomaya Day to day Psychology &amp; Spirituality</td>\n",
              "      <td>2022-02-10 05:05:23</td>\n",
              "      <td>Stages of spiritual growth..\\n1. Detach yourse...</td>\n",
              "    </tr>\n",
              "    <tr>\n",
              "      <th>0</th>\n",
              "      <td>C-place / marketplace</td>\n",
              "      <td>2022-02-10 05:03:21</td>\n",
              "      <td>Check this product\\n🔥 Gym Fitness Resistance B...</td>\n",
              "    </tr>\n",
              "    <tr>\n",
              "      <th>0</th>\n",
              "      <td>🍑𝗔𝗕𝗗 𝗖𝗫 𝟏𝟎𝟎𝐊🍑</td>\n",
              "      <td>2022-02-10 05:00:32</td>\n",
              "      <td>@InfluencioCoin @mangoo @InfluencioCoin\\n and ...</td>\n",
              "    </tr>\n",
              "    <tr>\n",
              "      <th>0</th>\n",
              "      <td>JC∆v™⚜️ 🐉</td>\n",
              "      <td>2022-02-10 04:57:12</td>\n",
              "      <td>Have y’all ever paid attention to these 10k ac...</td>\n",
              "    </tr>\n",
              "    <tr>\n",
              "      <th>0</th>\n",
              "      <td>Crypto Currency Lover</td>\n",
              "      <td>2022-02-10 04:56:48</td>\n",
              "      <td>@InfluencioCoin I am very happy to be able to ...</td>\n",
              "    </tr>\n",
              "  </tbody>\n",
              "</table>\n",
              "</div>\n",
              "      <button class=\"colab-df-convert\" onclick=\"convertToInteractive('df-f5a69b5f-1b2f-4bbc-9131-d291ff551662')\"\n",
              "              title=\"Convert this dataframe to an interactive table.\"\n",
              "              style=\"display:none;\">\n",
              "        \n",
              "  <svg xmlns=\"http://www.w3.org/2000/svg\" height=\"24px\"viewBox=\"0 0 24 24\"\n",
              "       width=\"24px\">\n",
              "    <path d=\"M0 0h24v24H0V0z\" fill=\"none\"/>\n",
              "    <path d=\"M18.56 5.44l.94 2.06.94-2.06 2.06-.94-2.06-.94-.94-2.06-.94 2.06-2.06.94zm-11 1L8.5 8.5l.94-2.06 2.06-.94-2.06-.94L8.5 2.5l-.94 2.06-2.06.94zm10 10l.94 2.06.94-2.06 2.06-.94-2.06-.94-.94-2.06-.94 2.06-2.06.94z\"/><path d=\"M17.41 7.96l-1.37-1.37c-.4-.4-.92-.59-1.43-.59-.52 0-1.04.2-1.43.59L10.3 9.45l-7.72 7.72c-.78.78-.78 2.05 0 2.83L4 21.41c.39.39.9.59 1.41.59.51 0 1.02-.2 1.41-.59l7.78-7.78 2.81-2.81c.8-.78.8-2.07 0-2.86zM5.41 20L4 18.59l7.72-7.72 1.47 1.35L5.41 20z\"/>\n",
              "  </svg>\n",
              "      </button>\n",
              "      \n",
              "  <style>\n",
              "    .colab-df-container {\n",
              "      display:flex;\n",
              "      flex-wrap:wrap;\n",
              "      gap: 12px;\n",
              "    }\n",
              "\n",
              "    .colab-df-convert {\n",
              "      background-color: #E8F0FE;\n",
              "      border: none;\n",
              "      border-radius: 50%;\n",
              "      cursor: pointer;\n",
              "      display: none;\n",
              "      fill: #1967D2;\n",
              "      height: 32px;\n",
              "      padding: 0 0 0 0;\n",
              "      width: 32px;\n",
              "    }\n",
              "\n",
              "    .colab-df-convert:hover {\n",
              "      background-color: #E2EBFA;\n",
              "      box-shadow: 0px 1px 2px rgba(60, 64, 67, 0.3), 0px 1px 3px 1px rgba(60, 64, 67, 0.15);\n",
              "      fill: #174EA6;\n",
              "    }\n",
              "\n",
              "    [theme=dark] .colab-df-convert {\n",
              "      background-color: #3B4455;\n",
              "      fill: #D2E3FC;\n",
              "    }\n",
              "\n",
              "    [theme=dark] .colab-df-convert:hover {\n",
              "      background-color: #434B5C;\n",
              "      box-shadow: 0px 1px 3px 1px rgba(0, 0, 0, 0.15);\n",
              "      filter: drop-shadow(0px 1px 2px rgba(0, 0, 0, 0.3));\n",
              "      fill: #FFFFFF;\n",
              "    }\n",
              "  </style>\n",
              "\n",
              "      <script>\n",
              "        const buttonEl =\n",
              "          document.querySelector('#df-f5a69b5f-1b2f-4bbc-9131-d291ff551662 button.colab-df-convert');\n",
              "        buttonEl.style.display =\n",
              "          google.colab.kernel.accessAllowed ? 'block' : 'none';\n",
              "\n",
              "        async function convertToInteractive(key) {\n",
              "          const element = document.querySelector('#df-f5a69b5f-1b2f-4bbc-9131-d291ff551662');\n",
              "          const dataTable =\n",
              "            await google.colab.kernel.invokeFunction('convertToInteractive',\n",
              "                                                     [key], {});\n",
              "          if (!dataTable) return;\n",
              "\n",
              "          const docLinkHtml = 'Like what you see? Visit the ' +\n",
              "            '<a target=\"_blank\" href=https://colab.research.google.com/notebooks/data_table.ipynb>data table notebook</a>'\n",
              "            + ' to learn more about interactive tables.';\n",
              "          element.innerHTML = '';\n",
              "          dataTable['output_type'] = 'display_data';\n",
              "          await google.colab.output.renderOutput(dataTable, element);\n",
              "          const docLink = document.createElement('div');\n",
              "          docLink.innerHTML = docLinkHtml;\n",
              "          element.appendChild(docLink);\n",
              "        }\n",
              "      </script>\n",
              "    </div>\n",
              "  </div>\n",
              "  "
            ],
            "text/plain": [
              "                                       user_name  ...                                               text\n",
              "0  Manomaya Day to day Psychology & Spirituality  ...  Stages of spiritual growth..\\n1. Detach yourse...\n",
              "0                          C-place / marketplace  ...  Check this product\\n🔥 Gym Fitness Resistance B...\n",
              "0                                  🍑𝗔𝗕𝗗 𝗖𝗫 𝟏𝟎𝟎𝐊🍑  ...  @InfluencioCoin @mangoo @InfluencioCoin\\n and ...\n",
              "0                                      JC∆v™⚜️ 🐉  ...  Have y’all ever paid attention to these 10k ac...\n",
              "0                          Crypto Currency Lover  ...  @InfluencioCoin I am very happy to be able to ...\n",
              "\n",
              "[5 rows x 3 columns]"
            ]
          },
          "metadata": {},
          "execution_count": 11
        }
      ]
    }
  ]
}